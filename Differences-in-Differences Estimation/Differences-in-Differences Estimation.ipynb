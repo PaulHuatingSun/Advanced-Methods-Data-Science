{
 "cells": [
  {
   "cell_type": "markdown",
   "id": "0f851bc6-ec1b-43bd-8a18-8aa9f3dff80a",
   "metadata": {
    "tags": []
   },
   "source": [
    "Collaborator: CiCi Feng"
   ]
  },
  {
   "cell_type": "markdown",
   "id": "63b4ee51-6257-48ce-807d-500e485e49d2",
   "metadata": {},
   "source": [
    "# Was the randomization done correctly? (30pt)"
   ]
  },
  {
   "cell_type": "code",
   "execution_count": 1,
   "id": "ae3fbde4-2002-45a7-a329-bdf4a770a99d",
   "metadata": {},
   "outputs": [],
   "source": [
    "# Load the necessary packages\n",
    "import pandas as pd\n",
    "import numpy as np\n",
    "from scipy import stats\n",
    "import matplotlib.pyplot as plt\n",
    "import statsmodels.api as sm\n",
    "import statsmodels.formula.api as smf"
   ]
  },
  {
   "cell_type": "markdown",
   "id": "bd681b44-e7c5-4d0b-bd2b-2d7e4bbc813e",
   "metadata": {},
   "source": [
    "    1. (10pt) Present your results in a single table with the following columns and 14 (or so) rows. The table should look something like this:\n",
    "    Suggestion: use t-test to determine whether the difference between Tand Cvillages is statistically significant for each of the variables in the dataset. Focus only on the data from 1997 for poor. Ignore variables such as folnum and village that do not carry social significance. t-test can be done with t.test in R. For instance t.test(x, y) compares two unpaired vectors xand y, and outputs confidence intervals, p-value, and other things.\n",
    "    Suggestion 2: There are many ways you can create this table, here is one suggestion you may follow:\n",
    "    (a) create an empty data frame that contains the values you need: variable name, average for T, average for C, their difference, and p-value from t-test. In R, you can also just create a NULL-object:\n",
    "    df <- NULL\n",
    "    This will be your final data frame, the one you will print.\n",
    "    (b) do a for-loop over all the variable names, data for which you want to compare. Inside the loop:\n",
    "    (c) extract the variable (your loop variable) values for Tand Cgroup as separate vectors\n",
    "    (d) compute averages of these two vectors\n",
    "    (e) compute p-value for t-test between these two vectors\n",
    "    (f) create a new one-line data frame (one row of the required table) that contains the values for this variable only.\n",
    "    (g) attach this new one-line data frame to the final data frame (the one you created as empty). You can use rbind as\n",
    "      df <- rbind(df, newDF)\n",
    "      As a result, your data frame will contain all the required values for all the variables. You can use knitr::kable or xtable library to print it in a nicer way. You can use argument check.names=FALSE to create a data frame with non-syntactic variable names, e.g. ones that contain space like “p value”."
   ]
  },
  {
   "cell_type": "code",
   "execution_count": 2,
   "id": "a6e0eee9-b340-40e5-a2be-cfe8977fe383",
   "metadata": {},
   "outputs": [
    {
     "name": "stdout",
     "output_type": "stream",
     "text": [
      "<class 'pandas.core.frame.DataFrame'>\n",
      "RangeIndex: 77250 entries, 0 to 77249\n",
      "Data columns (total 21 columns):\n",
      " #   Column         Non-Null Count  Dtype  \n",
      "---  ------         --------------  -----  \n",
      " 0   year           77250 non-null  int64  \n",
      " 1   sex            77226 non-null  float64\n",
      " 2   indig          76950 non-null  float64\n",
      " 3   dist_sec       77250 non-null  float64\n",
      " 4   sc             68797 non-null  float64\n",
      " 5   grc            70701 non-null  float64\n",
      " 6   fam_n          77250 non-null  int64  \n",
      " 7   min_dist       77250 non-null  float64\n",
      " 8   dist_cap       77250 non-null  float64\n",
      " 9   poor           77250 non-null  object \n",
      " 10  progresa       77250 non-null  object \n",
      " 11  hohedu         77250 non-null  int64  \n",
      " 12  hohwag         77250 non-null  float64\n",
      " 13  welfare_index  77040 non-null  float64\n",
      " 14  hohsex         77230 non-null  float64\n",
      " 15  hohage         77240 non-null  float64\n",
      " 16  age            77250 non-null  int64  \n",
      " 17  village        77250 non-null  int64  \n",
      " 18  folnum         77250 non-null  int64  \n",
      " 19  grc97          77250 non-null  int64  \n",
      " 20  sc97           73378 non-null  float64\n",
      "dtypes: float64(12), int64(7), object(2)\n",
      "memory usage: 12.4+ MB\n"
     ]
    },
    {
     "data": {
      "text/html": [
       "<div>\n",
       "<style scoped>\n",
       "    .dataframe tbody tr th:only-of-type {\n",
       "        vertical-align: middle;\n",
       "    }\n",
       "\n",
       "    .dataframe tbody tr th {\n",
       "        vertical-align: top;\n",
       "    }\n",
       "\n",
       "    .dataframe thead th {\n",
       "        text-align: right;\n",
       "    }\n",
       "</style>\n",
       "<table border=\"1\" class=\"dataframe\">\n",
       "  <thead>\n",
       "    <tr style=\"text-align: right;\">\n",
       "      <th></th>\n",
       "      <th>year</th>\n",
       "      <th>sex</th>\n",
       "      <th>indig</th>\n",
       "      <th>dist_sec</th>\n",
       "      <th>sc</th>\n",
       "      <th>grc</th>\n",
       "      <th>fam_n</th>\n",
       "      <th>min_dist</th>\n",
       "      <th>dist_cap</th>\n",
       "      <th>poor</th>\n",
       "      <th>...</th>\n",
       "      <th>hohedu</th>\n",
       "      <th>hohwag</th>\n",
       "      <th>welfare_index</th>\n",
       "      <th>hohsex</th>\n",
       "      <th>hohage</th>\n",
       "      <th>age</th>\n",
       "      <th>village</th>\n",
       "      <th>folnum</th>\n",
       "      <th>grc97</th>\n",
       "      <th>sc97</th>\n",
       "    </tr>\n",
       "  </thead>\n",
       "  <tbody>\n",
       "    <tr>\n",
       "      <th>0</th>\n",
       "      <td>97</td>\n",
       "      <td>0.0</td>\n",
       "      <td>0.0</td>\n",
       "      <td>4.473</td>\n",
       "      <td>1.0</td>\n",
       "      <td>7.0</td>\n",
       "      <td>7</td>\n",
       "      <td>21.168384</td>\n",
       "      <td>21.168384</td>\n",
       "      <td>pobre</td>\n",
       "      <td>...</td>\n",
       "      <td>6</td>\n",
       "      <td>0.0</td>\n",
       "      <td>583.0</td>\n",
       "      <td>1.0</td>\n",
       "      <td>35.0</td>\n",
       "      <td>13</td>\n",
       "      <td>163</td>\n",
       "      <td>1</td>\n",
       "      <td>7</td>\n",
       "      <td>1.0</td>\n",
       "    </tr>\n",
       "    <tr>\n",
       "      <th>1</th>\n",
       "      <td>98</td>\n",
       "      <td>0.0</td>\n",
       "      <td>0.0</td>\n",
       "      <td>4.473</td>\n",
       "      <td>1.0</td>\n",
       "      <td>8.0</td>\n",
       "      <td>7</td>\n",
       "      <td>21.168384</td>\n",
       "      <td>21.168384</td>\n",
       "      <td>pobre</td>\n",
       "      <td>...</td>\n",
       "      <td>6</td>\n",
       "      <td>0.0</td>\n",
       "      <td>583.0</td>\n",
       "      <td>1.0</td>\n",
       "      <td>35.0</td>\n",
       "      <td>14</td>\n",
       "      <td>163</td>\n",
       "      <td>1</td>\n",
       "      <td>7</td>\n",
       "      <td>1.0</td>\n",
       "    </tr>\n",
       "    <tr>\n",
       "      <th>2</th>\n",
       "      <td>97</td>\n",
       "      <td>1.0</td>\n",
       "      <td>0.0</td>\n",
       "      <td>4.473</td>\n",
       "      <td>1.0</td>\n",
       "      <td>6.0</td>\n",
       "      <td>7</td>\n",
       "      <td>21.168384</td>\n",
       "      <td>21.168384</td>\n",
       "      <td>pobre</td>\n",
       "      <td>...</td>\n",
       "      <td>6</td>\n",
       "      <td>0.0</td>\n",
       "      <td>583.0</td>\n",
       "      <td>1.0</td>\n",
       "      <td>35.0</td>\n",
       "      <td>12</td>\n",
       "      <td>163</td>\n",
       "      <td>2</td>\n",
       "      <td>6</td>\n",
       "      <td>1.0</td>\n",
       "    </tr>\n",
       "    <tr>\n",
       "      <th>3</th>\n",
       "      <td>98</td>\n",
       "      <td>1.0</td>\n",
       "      <td>0.0</td>\n",
       "      <td>4.473</td>\n",
       "      <td>1.0</td>\n",
       "      <td>7.0</td>\n",
       "      <td>7</td>\n",
       "      <td>21.168384</td>\n",
       "      <td>21.168384</td>\n",
       "      <td>pobre</td>\n",
       "      <td>...</td>\n",
       "      <td>6</td>\n",
       "      <td>0.0</td>\n",
       "      <td>583.0</td>\n",
       "      <td>1.0</td>\n",
       "      <td>35.0</td>\n",
       "      <td>13</td>\n",
       "      <td>163</td>\n",
       "      <td>2</td>\n",
       "      <td>6</td>\n",
       "      <td>1.0</td>\n",
       "    </tr>\n",
       "    <tr>\n",
       "      <th>4</th>\n",
       "      <td>97</td>\n",
       "      <td>0.0</td>\n",
       "      <td>0.0</td>\n",
       "      <td>4.473</td>\n",
       "      <td>1.0</td>\n",
       "      <td>2.0</td>\n",
       "      <td>7</td>\n",
       "      <td>21.168384</td>\n",
       "      <td>21.168384</td>\n",
       "      <td>pobre</td>\n",
       "      <td>...</td>\n",
       "      <td>6</td>\n",
       "      <td>0.0</td>\n",
       "      <td>583.0</td>\n",
       "      <td>1.0</td>\n",
       "      <td>35.0</td>\n",
       "      <td>8</td>\n",
       "      <td>163</td>\n",
       "      <td>3</td>\n",
       "      <td>2</td>\n",
       "      <td>1.0</td>\n",
       "    </tr>\n",
       "  </tbody>\n",
       "</table>\n",
       "<p>5 rows × 21 columns</p>\n",
       "</div>"
      ],
      "text/plain": [
       "   year  sex  indig  dist_sec   sc  grc  fam_n   min_dist   dist_cap   poor  \\\n",
       "0    97  0.0    0.0     4.473  1.0  7.0      7  21.168384  21.168384  pobre   \n",
       "1    98  0.0    0.0     4.473  1.0  8.0      7  21.168384  21.168384  pobre   \n",
       "2    97  1.0    0.0     4.473  1.0  6.0      7  21.168384  21.168384  pobre   \n",
       "3    98  1.0    0.0     4.473  1.0  7.0      7  21.168384  21.168384  pobre   \n",
       "4    97  0.0    0.0     4.473  1.0  2.0      7  21.168384  21.168384  pobre   \n",
       "\n",
       "   ... hohedu  hohwag  welfare_index  hohsex  hohage  age  village  folnum  \\\n",
       "0  ...      6     0.0          583.0     1.0    35.0   13      163       1   \n",
       "1  ...      6     0.0          583.0     1.0    35.0   14      163       1   \n",
       "2  ...      6     0.0          583.0     1.0    35.0   12      163       2   \n",
       "3  ...      6     0.0          583.0     1.0    35.0   13      163       2   \n",
       "4  ...      6     0.0          583.0     1.0    35.0    8      163       3   \n",
       "\n",
       "   grc97  sc97  \n",
       "0      7   1.0  \n",
       "1      7   1.0  \n",
       "2      6   1.0  \n",
       "3      6   1.0  \n",
       "4      2   1.0  \n",
       "\n",
       "[5 rows x 21 columns]"
      ]
     },
     "execution_count": 2,
     "metadata": {},
     "output_type": "execute_result"
    }
   ],
   "source": [
    "# Load the dataset\n",
    "progresa_data = pd.read_csv('/home/jovyan/INFO371PS/Data/progresa-sample.csv', sep=',')\n",
    "# Print basic info and first five lines\n",
    "progresa_data.info()\n",
    "progresa_data.head(5)"
   ]
  },
  {
   "cell_type": "code",
   "execution_count": 3,
   "id": "bb9125ca-1c77-4904-9c04-ce23c114a9f5",
   "metadata": {},
   "outputs": [
    {
     "data": {
      "text/html": [
       "<div>\n",
       "<style scoped>\n",
       "    .dataframe tbody tr th:only-of-type {\n",
       "        vertical-align: middle;\n",
       "    }\n",
       "\n",
       "    .dataframe tbody tr th {\n",
       "        vertical-align: top;\n",
       "    }\n",
       "\n",
       "    .dataframe thead th {\n",
       "        text-align: right;\n",
       "    }\n",
       "</style>\n",
       "<table border=\"1\" class=\"dataframe\">\n",
       "  <thead>\n",
       "    <tr style=\"text-align: right;\">\n",
       "      <th></th>\n",
       "      <th>Variable Name</th>\n",
       "      <th>Average value (Treatment villages)</th>\n",
       "      <th>Average value (Control villages)</th>\n",
       "      <th>Difference (Treat - Control)</th>\n",
       "      <th>p-value</th>\n",
       "    </tr>\n",
       "  </thead>\n",
       "  <tbody>\n",
       "    <tr>\n",
       "      <th>0</th>\n",
       "      <td>age</td>\n",
       "      <td>10.716991</td>\n",
       "      <td>10.742023</td>\n",
       "      <td>-0.025032</td>\n",
       "      <td>0.4784</td>\n",
       "    </tr>\n",
       "    <tr>\n",
       "      <th>1</th>\n",
       "      <td>dist_cap</td>\n",
       "      <td>150.829074</td>\n",
       "      <td>153.769730</td>\n",
       "      <td>-2.940656</td>\n",
       "      <td>0.0011</td>\n",
       "    </tr>\n",
       "    <tr>\n",
       "      <th>2</th>\n",
       "      <td>dist_sec</td>\n",
       "      <td>2.453122</td>\n",
       "      <td>2.507662</td>\n",
       "      <td>-0.054540</td>\n",
       "      <td>0.0427</td>\n",
       "    </tr>\n",
       "    <tr>\n",
       "      <th>3</th>\n",
       "      <td>fam_n</td>\n",
       "      <td>7.281327</td>\n",
       "      <td>7.302469</td>\n",
       "      <td>-0.021142</td>\n",
       "      <td>0.4290</td>\n",
       "    </tr>\n",
       "    <tr>\n",
       "      <th>4</th>\n",
       "      <td>grc</td>\n",
       "      <td>3.531599</td>\n",
       "      <td>3.543050</td>\n",
       "      <td>-0.011450</td>\n",
       "      <td>0.6895</td>\n",
       "    </tr>\n",
       "    <tr>\n",
       "      <th>5</th>\n",
       "      <td>hohage</td>\n",
       "      <td>43.648828</td>\n",
       "      <td>44.276918</td>\n",
       "      <td>-0.628090</td>\n",
       "      <td>0.0000</td>\n",
       "    </tr>\n",
       "    <tr>\n",
       "      <th>6</th>\n",
       "      <td>hohedu</td>\n",
       "      <td>2.663139</td>\n",
       "      <td>2.590348</td>\n",
       "      <td>0.072791</td>\n",
       "      <td>0.0104</td>\n",
       "    </tr>\n",
       "    <tr>\n",
       "      <th>7</th>\n",
       "      <td>hohsex</td>\n",
       "      <td>0.924656</td>\n",
       "      <td>0.922947</td>\n",
       "      <td>0.001709</td>\n",
       "      <td>0.5721</td>\n",
       "    </tr>\n",
       "    <tr>\n",
       "      <th>8</th>\n",
       "      <td>hohwag</td>\n",
       "      <td>544.339544</td>\n",
       "      <td>573.163558</td>\n",
       "      <td>-28.824015</td>\n",
       "      <td>0.0003</td>\n",
       "    </tr>\n",
       "    <tr>\n",
       "      <th>9</th>\n",
       "      <td>indig</td>\n",
       "      <td>0.325986</td>\n",
       "      <td>0.332207</td>\n",
       "      <td>-0.006222</td>\n",
       "      <td>0.2459</td>\n",
       "    </tr>\n",
       "    <tr>\n",
       "      <th>10</th>\n",
       "      <td>min_dist</td>\n",
       "      <td>107.152915</td>\n",
       "      <td>103.237854</td>\n",
       "      <td>3.915060</td>\n",
       "      <td>0.0000</td>\n",
       "    </tr>\n",
       "    <tr>\n",
       "      <th>11</th>\n",
       "      <td>sc</td>\n",
       "      <td>0.822697</td>\n",
       "      <td>0.815186</td>\n",
       "      <td>0.007511</td>\n",
       "      <td>0.0965</td>\n",
       "    </tr>\n",
       "    <tr>\n",
       "      <th>12</th>\n",
       "      <td>sex</td>\n",
       "      <td>0.519317</td>\n",
       "      <td>0.505052</td>\n",
       "      <td>0.014265</td>\n",
       "      <td>0.0122</td>\n",
       "    </tr>\n",
       "    <tr>\n",
       "      <th>13</th>\n",
       "      <td>welfare_index</td>\n",
       "      <td>655.428377</td>\n",
       "      <td>659.579100</td>\n",
       "      <td>-4.150723</td>\n",
       "      <td>0.0015</td>\n",
       "    </tr>\n",
       "  </tbody>\n",
       "</table>\n",
       "</div>"
      ],
      "text/plain": [
       "    Variable Name  Average value (Treatment villages)  \\\n",
       "0             age                           10.716991   \n",
       "1        dist_cap                          150.829074   \n",
       "2        dist_sec                            2.453122   \n",
       "3           fam_n                            7.281327   \n",
       "4             grc                            3.531599   \n",
       "5          hohage                           43.648828   \n",
       "6          hohedu                            2.663139   \n",
       "7          hohsex                            0.924656   \n",
       "8          hohwag                          544.339544   \n",
       "9           indig                            0.325986   \n",
       "10       min_dist                          107.152915   \n",
       "11             sc                            0.822697   \n",
       "12            sex                            0.519317   \n",
       "13  welfare_index                          655.428377   \n",
       "\n",
       "    Average value (Control villages)  Difference (Treat - Control)  p-value  \n",
       "0                          10.742023                     -0.025032   0.4784  \n",
       "1                         153.769730                     -2.940656   0.0011  \n",
       "2                           2.507662                     -0.054540   0.0427  \n",
       "3                           7.302469                     -0.021142   0.4290  \n",
       "4                           3.543050                     -0.011450   0.6895  \n",
       "5                          44.276918                     -0.628090   0.0000  \n",
       "6                           2.590348                      0.072791   0.0104  \n",
       "7                           0.922947                      0.001709   0.5721  \n",
       "8                         573.163558                    -28.824015   0.0003  \n",
       "9                           0.332207                     -0.006222   0.2459  \n",
       "10                        103.237854                      3.915060   0.0000  \n",
       "11                          0.815186                      0.007511   0.0965  \n",
       "12                          0.505052                      0.014265   0.0122  \n",
       "13                        659.579100                     -4.150723   0.0015  "
      ]
     },
     "execution_count": 3,
     "metadata": {},
     "output_type": "execute_result"
    }
   ],
   "source": [
    "# Filtering the data\n",
    "control_97 = progresa_data[(progresa_data.year == 97) & (progresa_data.poor == \"pobre\") & (progresa_data.progresa == \"0\")]\n",
    "treatment_97 = progresa_data[(progresa_data.year == 97) & (progresa_data.poor == \"pobre\") & (progresa_data.progresa == \"basal\")]\n",
    "# Create an empty list to store results\n",
    "output = []\n",
    "# For loop to calculate control and treatment group average, calculate difference, calculate p value\n",
    "for column in progresa_data.columns:\n",
    "    if column not in ['year', 'poor', 'progresa', 'village', 'folnum', 'grc97', 'sc97']:\n",
    "        control_avg = np.mean(control_97[column])\n",
    "        treatment_avg = np.mean(treatment_97[column])\n",
    "        p_value = stats.ttest_ind(treatment_97[~treatment_97[column].isnull()][column], control_97[~control_97[column].isnull()][column], equal_var = False)[1]\n",
    "        output.append([column, treatment_avg, control_avg, treatment_avg - control_avg, round(p_value, 4)])\n",
    "# Create dataframe and rename column names\n",
    "output = pd.DataFrame(output, columns = [\"Variable Name\", \"Average value (Treatment villages)\", \"Average value (Control villages)\", \"Difference (Treat - Control)\", \"p-value\"])\n",
    "output.sort_values(by = \"Variable Name\").reset_index(drop = True)"
   ]
  },
  {
   "cell_type": "markdown",
   "id": "891bdfad-acb6-433f-a2ce-db8b836fdb3e",
   "metadata": {},
   "source": [
    "    2. (4pt) Did you find any statistically significant differences between treatment and control villages?"
   ]
  },
  {
   "cell_type": "markdown",
   "id": "5f035609-7b29-421c-af05-d51576284ee7",
   "metadata": {},
   "source": [
    "Variables \"sex\", \"dist_sec\", \"dist_cap\", \"hohedu\", \"hohwag\", \"hohage\", \"welfare_index\", \"min_dist\" are the only ones that have statistically significant differences between treatment and control villages as they have p-values that are less than a typical alpha value (i.e. 0.05)."
   ]
  },
  {
   "cell_type": "markdown",
   "id": "2dfb901b-3b0f-4e81-b38e-4d9b84d7da2b",
   "metadata": {},
   "source": [
    "    3. (8pt) Why do we focus on 1997 differences only?"
   ]
  },
  {
   "cell_type": "markdown",
   "id": "cfc1fda4-0f46-4862-a0e1-2daf6533a376",
   "metadata": {},
   "source": [
    "We want to focus on 1997 differences only because we want to analyze whether randomization was performed correctly here. The pre-treatment time, which is 1997 demographic, is observable for us to see that. If the treated group and control groups are similar, they should also be similar in other characteristics we do not observe in the data."
   ]
  },
  {
   "cell_type": "markdown",
   "id": "21e3f2e7-30ca-40b1-ba17-08835b2e545c",
   "metadata": {},
   "source": [
    "    4. (8pt) Why does it matter if treatment and control villages differ?"
   ]
  },
  {
   "cell_type": "markdown",
   "id": "f305db2e-6c93-47a5-8d58-0bbebbdc996f",
   "metadata": {},
   "source": [
    "It would matter if there are differences between treatment and control villages because it violates the assumption of the two groups having similar trends before the treatment. In that case, we cannot attribute the change in output to the treatment, and no causal interpretation can be established. "
   ]
  },
  {
   "cell_type": "markdown",
   "id": "c9ed7175-50b4-4b7e-8235-585836214374",
   "metadata": {},
   "source": [
    "# Measuring impact (45pt)"
   ]
  },
  {
   "cell_type": "markdown",
   "id": "51bc24f1-cfdb-47aa-986e-0f085bb30597",
   "metadata": {},
   "source": [
    "Next, we measure the impact of Progresa. You already did it with CS and BA estimator, so the only thing to do is essentially to repeat the previous with DiD estimator. DiD relaxes the identifying assumptions but you pay the price in the form of stricter data requirements and more complex analysis."
   ]
  },
  {
   "cell_type": "markdown",
   "id": "be24bb38-d701-4d36-b1cc-79a85ddc9fbe",
   "metadata": {},
   "source": [
    "    1. (2pt) First, let’s just compare group averages. Now you need four groups: treated and control, before and after treatment. DiD is the difference in the trends for treated and control groups. Compute these group averages and the corresponding DiD estimator.\n",
    "    Hint: it should be 0.0313."
   ]
  },
  {
   "cell_type": "code",
   "execution_count": 4,
   "id": "45486829-0b1a-4812-b79e-df250e6b7e07",
   "metadata": {},
   "outputs": [
    {
     "name": "stdout",
     "output_type": "stream",
     "text": [
      "Difference in control group averages: -0.007549046327276487\n",
      "Difference in treatment group averages: 0.023782233992046597\n",
      "The corresponding DiD estimator is: 0.031331280319323085\n"
     ]
    }
   ],
   "source": [
    "# Filter, groupby, and compute means for different groups\n",
    "difference_data = progresa_data[progresa_data.poor == \"pobre\"].groupby([\"year\", \"progresa\"]).sc.mean().values\n",
    "# Compute difference betweeen contol and treatment groups\n",
    "difference_control = difference_data[2] - difference_data[0]\n",
    "difference_treatment = difference_data[3] - difference_data[1]\n",
    "# Compute the difference in difference estimator\n",
    "did_estimator = difference_treatment - difference_control\n",
    "# Print result statements\n",
    "print(\"Difference in control group averages:\", difference_control)\n",
    "print(\"Difference in treatment group averages:\", difference_treatment)\n",
    "print(\"The corresponding DiD estimator is:\", did_estimator)"
   ]
  },
  {
   "cell_type": "markdown",
   "id": "6d61fed1-4a46-4902-8846-ad2a0fb62072",
   "metadata": {},
   "source": [
    "Now it’s time to introduce regression. You should regress the schooling outcome on pre/post reform indicator (i.e. year), treatment/control indicator (i.e. progresa), and their corresponding interaction effect. You should only include the treatment and control groups (i.e. poor), not “rich” families.\n",
    "\n",
    "    2. (4pt) Estimate the effect using DiD simple regression (no other covariates)."
   ]
  },
  {
   "cell_type": "code",
   "execution_count": 5,
   "id": "78c242c3-9e4d-4a69-9fb6-ce31d5eab8bb",
   "metadata": {},
   "outputs": [
    {
     "data": {
      "text/html": [
       "<table class=\"simpletable\">\n",
       "<caption>OLS Regression Results</caption>\n",
       "<tr>\n",
       "  <th>Dep. Variable:</th>           <td>sc</td>        <th>  R-squared:         </th> <td>   0.001</td> \n",
       "</tr>\n",
       "<tr>\n",
       "  <th>Model:</th>                   <td>OLS</td>       <th>  Adj. R-squared:    </th> <td>   0.001</td> \n",
       "</tr>\n",
       "<tr>\n",
       "  <th>Method:</th>             <td>Least Squares</td>  <th>  F-statistic:       </th> <td>   28.31</td> \n",
       "</tr>\n",
       "<tr>\n",
       "  <th>Date:</th>             <td>Mon, 18 Apr 2022</td> <th>  Prob (F-statistic):</th> <td>2.76e-18</td> \n",
       "</tr>\n",
       "<tr>\n",
       "  <th>Time:</th>                 <td>01:20:21</td>     <th>  Log-Likelihood:    </th> <td> -26242.</td> \n",
       "</tr>\n",
       "<tr>\n",
       "  <th>No. Observations:</th>      <td> 58372</td>      <th>  AIC:               </th> <td>5.249e+04</td>\n",
       "</tr>\n",
       "<tr>\n",
       "  <th>Df Residuals:</th>          <td> 58368</td>      <th>  BIC:               </th> <td>5.253e+04</td>\n",
       "</tr>\n",
       "<tr>\n",
       "  <th>Df Model:</th>              <td>     3</td>      <th>                     </th>     <td> </td>    \n",
       "</tr>\n",
       "<tr>\n",
       "  <th>Covariance Type:</th>      <td>nonrobust</td>    <th>                     </th>     <td> </td>    \n",
       "</tr>\n",
       "</table>\n",
       "<table class=\"simpletable\">\n",
       "<tr>\n",
       "                     <td></td>                        <th>coef</th>     <th>std err</th>      <th>t</th>      <th>P>|t|</th>  <th>[0.025</th>    <th>0.975]</th>  \n",
       "</tr>\n",
       "<tr>\n",
       "  <th>Intercept</th>                               <td>    0.8152</td> <td>    0.003</td> <td>  233.182</td> <td> 0.000</td> <td>    0.808</td> <td>    0.822</td>\n",
       "</tr>\n",
       "<tr>\n",
       "  <th>progresa[T.basal]</th>                       <td>    0.0075</td> <td>    0.004</td> <td>    1.691</td> <td> 0.091</td> <td>   -0.001</td> <td>    0.016</td>\n",
       "</tr>\n",
       "<tr>\n",
       "  <th>I(year == 98)[T.True]</th>                   <td>   -0.0075</td> <td>    0.005</td> <td>   -1.480</td> <td> 0.139</td> <td>   -0.018</td> <td>    0.002</td>\n",
       "</tr>\n",
       "<tr>\n",
       "  <th>progresa[T.basal]:I(year == 98)[T.True]</th> <td>    0.0313</td> <td>    0.006</td> <td>    4.835</td> <td> 0.000</td> <td>    0.019</td> <td>    0.044</td>\n",
       "</tr>\n",
       "</table>\n",
       "<table class=\"simpletable\">\n",
       "<tr>\n",
       "  <th>Omnibus:</th>       <td>15346.988</td> <th>  Durbin-Watson:     </th> <td>   1.397</td> \n",
       "</tr>\n",
       "<tr>\n",
       "  <th>Prob(Omnibus):</th>  <td> 0.000</td>   <th>  Jarque-Bera (JB):  </th> <td>30608.651</td>\n",
       "</tr>\n",
       "<tr>\n",
       "  <th>Skew:</th>           <td>-1.711</td>   <th>  Prob(JB):          </th> <td>    0.00</td> \n",
       "</tr>\n",
       "<tr>\n",
       "  <th>Kurtosis:</th>       <td> 3.937</td>   <th>  Cond. No.          </th> <td>    7.67</td> \n",
       "</tr>\n",
       "</table><br/><br/>Notes:<br/>[1] Standard Errors assume that the covariance matrix of the errors is correctly specified."
      ],
      "text/plain": [
       "<class 'statsmodels.iolib.summary.Summary'>\n",
       "\"\"\"\n",
       "                            OLS Regression Results                            \n",
       "==============================================================================\n",
       "Dep. Variable:                     sc   R-squared:                       0.001\n",
       "Model:                            OLS   Adj. R-squared:                  0.001\n",
       "Method:                 Least Squares   F-statistic:                     28.31\n",
       "Date:                Mon, 18 Apr 2022   Prob (F-statistic):           2.76e-18\n",
       "Time:                        01:20:21   Log-Likelihood:                -26242.\n",
       "No. Observations:               58372   AIC:                         5.249e+04\n",
       "Df Residuals:                   58368   BIC:                         5.253e+04\n",
       "Df Model:                           3                                         \n",
       "Covariance Type:            nonrobust                                         \n",
       "===========================================================================================================\n",
       "                                              coef    std err          t      P>|t|      [0.025      0.975]\n",
       "-----------------------------------------------------------------------------------------------------------\n",
       "Intercept                                   0.8152      0.003    233.182      0.000       0.808       0.822\n",
       "progresa[T.basal]                           0.0075      0.004      1.691      0.091      -0.001       0.016\n",
       "I(year == 98)[T.True]                      -0.0075      0.005     -1.480      0.139      -0.018       0.002\n",
       "progresa[T.basal]:I(year == 98)[T.True]     0.0313      0.006      4.835      0.000       0.019       0.044\n",
       "==============================================================================\n",
       "Omnibus:                    15346.988   Durbin-Watson:                   1.397\n",
       "Prob(Omnibus):                  0.000   Jarque-Bera (JB):            30608.651\n",
       "Skew:                          -1.711   Prob(JB):                         0.00\n",
       "Kurtosis:                       3.937   Cond. No.                         7.67\n",
       "==============================================================================\n",
       "\n",
       "Notes:\n",
       "[1] Standard Errors assume that the covariance matrix of the errors is correctly specified.\n",
       "\"\"\""
      ]
     },
     "execution_count": 5,
     "metadata": {},
     "output_type": "execute_result"
    }
   ],
   "source": [
    "# Filter for only poor data\n",
    "poor_data = progresa_data[(progresa_data.poor == \"pobre\")]\n",
    "# Perfrom simple rergression \n",
    "did_simple_regression = smf.ols(\"sc ~ progresa * I(year == 98)\", data = poor_data).fit()\n",
    "did_simple_regression.summary()"
   ]
  },
  {
   "cell_type": "markdown",
   "id": "8b6f5edc-43a1-43f5-8efb-4b3313ebe686",
   "metadata": {
    "tags": []
   },
   "source": [
    "    3. (4pt) Interpret all the coefficients."
   ]
  },
  {
   "cell_type": "markdown",
   "id": "2c31818a-60fe-4d7f-b791-93da90756f49",
   "metadata": {},
   "source": [
    "Before the progresa program, the schooling rate in the control villages was about 81.5%. The schooling rate in the treated villages before treatment improves by 0.75 percentage points. The schooling rate in control villages falls by 0.75 percentage points after the progresa. However, following progresa, the education rate in treated villages increased by 3.13 percentage points."
   ]
  },
  {
   "cell_type": "markdown",
   "id": "ae124dbd-2f58-4301-a7ad-0f620fa24028",
   "metadata": {},
   "source": [
    "    4. (4pt) Report the result: it should be the same as above. Is it statistically significant?"
   ]
  },
  {
   "cell_type": "markdown",
   "id": "64af3431-9597-4429-82fa-ee43ab879973",
   "metadata": {},
   "source": [
    "The regression model shows that the difference in the trends for the treated and control groups is 0.0313, which is the same as above. It is statistically significant because the p-value is less than a typical alpha value (i.e., 0.05)."
   ]
  },
  {
   "cell_type": "markdown",
   "id": "3e9fce88-babe-43f4-9084-ad3e4e32fb2a",
   "metadata": {},
   "source": [
    "    5. (3pt) Now estimate the effect using multiple regression–include all relevant control variables."
   ]
  },
  {
   "cell_type": "code",
   "execution_count": 6,
   "id": "f0a5cdc7-a75d-45ef-b126-c05f2bcb0362",
   "metadata": {},
   "outputs": [
    {
     "data": {
      "text/html": [
       "<table class=\"simpletable\">\n",
       "<caption>OLS Regression Results</caption>\n",
       "<tr>\n",
       "  <th>Dep. Variable:</th>           <td>sc</td>        <th>  R-squared:         </th> <td>   0.281</td> \n",
       "</tr>\n",
       "<tr>\n",
       "  <th>Model:</th>                   <td>OLS</td>       <th>  Adj. R-squared:    </th> <td>   0.281</td> \n",
       "</tr>\n",
       "<tr>\n",
       "  <th>Method:</th>             <td>Least Squares</td>  <th>  F-statistic:       </th> <td>   2073.</td> \n",
       "</tr>\n",
       "<tr>\n",
       "  <th>Date:</th>             <td>Mon, 18 Apr 2022</td> <th>  Prob (F-statistic):</th>  <td>  0.00</td>  \n",
       "</tr>\n",
       "<tr>\n",
       "  <th>Time:</th>                 <td>01:20:21</td>     <th>  Log-Likelihood:    </th> <td> -16644.</td> \n",
       "</tr>\n",
       "<tr>\n",
       "  <th>No. Observations:</th>      <td> 58344</td>      <th>  AIC:               </th> <td>3.331e+04</td>\n",
       "</tr>\n",
       "<tr>\n",
       "  <th>Df Residuals:</th>          <td> 58332</td>      <th>  BIC:               </th> <td>3.342e+04</td>\n",
       "</tr>\n",
       "<tr>\n",
       "  <th>Df Model:</th>              <td>    11</td>      <th>                     </th>     <td> </td>    \n",
       "</tr>\n",
       "<tr>\n",
       "  <th>Covariance Type:</th>      <td>nonrobust</td>    <th>                     </th>     <td> </td>    \n",
       "</tr>\n",
       "</table>\n",
       "<table class=\"simpletable\">\n",
       "<tr>\n",
       "                     <td></td>                        <th>coef</th>     <th>std err</th>      <th>t</th>      <th>P>|t|</th>  <th>[0.025</th>    <th>0.975]</th>  \n",
       "</tr>\n",
       "<tr>\n",
       "  <th>Intercept</th>                               <td>    1.4266</td> <td>    0.010</td> <td>  144.359</td> <td> 0.000</td> <td>    1.407</td> <td>    1.446</td>\n",
       "</tr>\n",
       "<tr>\n",
       "  <th>progresa[T.basal]</th>                       <td>    0.0010</td> <td>    0.004</td> <td>    0.276</td> <td> 0.783</td> <td>   -0.006</td> <td>    0.008</td>\n",
       "</tr>\n",
       "<tr>\n",
       "  <th>I(year == 98)[T.True]</th>                   <td>    0.0274</td> <td>    0.004</td> <td>    6.313</td> <td> 0.000</td> <td>    0.019</td> <td>    0.036</td>\n",
       "</tr>\n",
       "<tr>\n",
       "  <th>progresa[T.basal]:I(year == 98)[T.True]</th> <td>    0.0313</td> <td>    0.006</td> <td>    5.699</td> <td> 0.000</td> <td>    0.021</td> <td>    0.042</td>\n",
       "</tr>\n",
       "<tr>\n",
       "  <th>sex</th>                                     <td>    0.0331</td> <td>    0.003</td> <td>   12.405</td> <td> 0.000</td> <td>    0.028</td> <td>    0.038</td>\n",
       "</tr>\n",
       "<tr>\n",
       "  <th>fam_n</th>                                   <td>   -0.0002</td> <td>    0.001</td> <td>   -0.365</td> <td> 0.715</td> <td>   -0.001</td> <td>    0.001</td>\n",
       "</tr>\n",
       "<tr>\n",
       "  <th>min_dist</th>                                <td>    0.0007</td> <td> 3.21e-05</td> <td>   21.726</td> <td> 0.000</td> <td>    0.001</td> <td>    0.001</td>\n",
       "</tr>\n",
       "<tr>\n",
       "  <th>dist_sec</th>                                <td>   -0.0098</td> <td>    0.001</td> <td>  -15.973</td> <td> 0.000</td> <td>   -0.011</td> <td>   -0.009</td>\n",
       "</tr>\n",
       "<tr>\n",
       "  <th>hohedu</th>                                  <td>    0.0078</td> <td>    0.001</td> <td>   13.411</td> <td> 0.000</td> <td>    0.007</td> <td>    0.009</td>\n",
       "</tr>\n",
       "<tr>\n",
       "  <th>hohwag</th>                                  <td>-1.136e-06</td> <td> 1.92e-06</td> <td>   -0.592</td> <td> 0.554</td> <td>-4.89e-06</td> <td> 2.62e-06</td>\n",
       "</tr>\n",
       "<tr>\n",
       "  <th>hohage</th>                                  <td>    0.0003</td> <td>    0.000</td> <td>    2.287</td> <td> 0.022</td> <td> 4.25e-05</td> <td>    0.001</td>\n",
       "</tr>\n",
       "<tr>\n",
       "  <th>age</th>                                     <td>   -0.0657</td> <td>    0.000</td> <td> -143.659</td> <td> 0.000</td> <td>   -0.067</td> <td>   -0.065</td>\n",
       "</tr>\n",
       "</table>\n",
       "<table class=\"simpletable\">\n",
       "<tr>\n",
       "  <th>Omnibus:</th>       <td>5508.809</td> <th>  Durbin-Watson:     </th> <td>   1.488</td>\n",
       "</tr>\n",
       "<tr>\n",
       "  <th>Prob(Omnibus):</th>  <td> 0.000</td>  <th>  Jarque-Bera (JB):  </th> <td>7238.892</td>\n",
       "</tr>\n",
       "<tr>\n",
       "  <th>Skew:</th>           <td>-0.861</td>  <th>  Prob(JB):          </th> <td>    0.00</td>\n",
       "</tr>\n",
       "<tr>\n",
       "  <th>Kurtosis:</th>       <td> 3.111</td>  <th>  Cond. No.          </th> <td>6.86e+03</td>\n",
       "</tr>\n",
       "</table><br/><br/>Notes:<br/>[1] Standard Errors assume that the covariance matrix of the errors is correctly specified.<br/>[2] The condition number is large, 6.86e+03. This might indicate that there are<br/>strong multicollinearity or other numerical problems."
      ],
      "text/plain": [
       "<class 'statsmodels.iolib.summary.Summary'>\n",
       "\"\"\"\n",
       "                            OLS Regression Results                            \n",
       "==============================================================================\n",
       "Dep. Variable:                     sc   R-squared:                       0.281\n",
       "Model:                            OLS   Adj. R-squared:                  0.281\n",
       "Method:                 Least Squares   F-statistic:                     2073.\n",
       "Date:                Mon, 18 Apr 2022   Prob (F-statistic):               0.00\n",
       "Time:                        01:20:21   Log-Likelihood:                -16644.\n",
       "No. Observations:               58344   AIC:                         3.331e+04\n",
       "Df Residuals:                   58332   BIC:                         3.342e+04\n",
       "Df Model:                          11                                         \n",
       "Covariance Type:            nonrobust                                         \n",
       "===========================================================================================================\n",
       "                                              coef    std err          t      P>|t|      [0.025      0.975]\n",
       "-----------------------------------------------------------------------------------------------------------\n",
       "Intercept                                   1.4266      0.010    144.359      0.000       1.407       1.446\n",
       "progresa[T.basal]                           0.0010      0.004      0.276      0.783      -0.006       0.008\n",
       "I(year == 98)[T.True]                       0.0274      0.004      6.313      0.000       0.019       0.036\n",
       "progresa[T.basal]:I(year == 98)[T.True]     0.0313      0.006      5.699      0.000       0.021       0.042\n",
       "sex                                         0.0331      0.003     12.405      0.000       0.028       0.038\n",
       "fam_n                                      -0.0002      0.001     -0.365      0.715      -0.001       0.001\n",
       "min_dist                                    0.0007   3.21e-05     21.726      0.000       0.001       0.001\n",
       "dist_sec                                   -0.0098      0.001    -15.973      0.000      -0.011      -0.009\n",
       "hohedu                                      0.0078      0.001     13.411      0.000       0.007       0.009\n",
       "hohwag                                  -1.136e-06   1.92e-06     -0.592      0.554   -4.89e-06    2.62e-06\n",
       "hohage                                      0.0003      0.000      2.287      0.022    4.25e-05       0.001\n",
       "age                                        -0.0657      0.000   -143.659      0.000      -0.067      -0.065\n",
       "==============================================================================\n",
       "Omnibus:                     5508.809   Durbin-Watson:                   1.488\n",
       "Prob(Omnibus):                  0.000   Jarque-Bera (JB):             7238.892\n",
       "Skew:                          -0.861   Prob(JB):                         0.00\n",
       "Kurtosis:                       3.111   Cond. No.                     6.86e+03\n",
       "==============================================================================\n",
       "\n",
       "Notes:\n",
       "[1] Standard Errors assume that the covariance matrix of the errors is correctly specified.\n",
       "[2] The condition number is large, 6.86e+03. This might indicate that there are\n",
       "strong multicollinearity or other numerical problems.\n",
       "\"\"\""
      ]
     },
     "execution_count": 6,
     "metadata": {},
     "output_type": "execute_result"
    }
   ],
   "source": [
    "# Perfrom multi rergression \n",
    "did_multi_regression = smf.ols(\"sc ~ progresa * I(year == 98) + sex + fam_n + min_dist + dist_sec + hohedu+ hohwag + hohage + age\", data = poor_data).fit()\n",
    "did_multi_regression.summary()"
   ]
  },
  {
   "cell_type": "markdown",
   "id": "3055ee18-7fd8-401b-9a86-c07db7af9197",
   "metadata": {},
   "source": [
    "    6. (3pt) Compare the results. Is the multiple-regression version similar? Is it statistically significant?\n",
    "    \n",
    "    \n",
    "    "
   ]
  },
  {
   "cell_type": "markdown",
   "id": "e752de04-56bd-4773-8f8d-f14743d8319c",
   "metadata": {},
   "source": [
    "After comparing the result, the multiple-regression version of the coefficient is similar to the simple regression version. The interaction effect of the multiple regression is 0.0313, and the one for the simple regression is 0.0313 as well. It is statistically significant as it has a p-value less than a typical alpha value (i.e., 0.05)"
   ]
  },
  {
   "cell_type": "markdown",
   "id": "f86fb4f7-d6e0-4eab-88d4-2d71717521b4",
   "metadata": {},
   "source": [
    "    7. (5pt) What are 95% confidence intervals for this estimator? Does this encompass all other estimates you received in this and in the previous PS?\n",
    "    Hint: the upper boundary of 95% CI should be 0.0409."
   ]
  },
  {
   "cell_type": "code",
   "execution_count": 7,
   "id": "5628ad7f-fbec-4bd8-bea4-01db330b152d",
   "metadata": {},
   "outputs": [
    {
     "data": {
      "text/html": [
       "<div>\n",
       "<style scoped>\n",
       "    .dataframe tbody tr th:only-of-type {\n",
       "        vertical-align: middle;\n",
       "    }\n",
       "\n",
       "    .dataframe tbody tr th {\n",
       "        vertical-align: top;\n",
       "    }\n",
       "\n",
       "    .dataframe thead th {\n",
       "        text-align: right;\n",
       "    }\n",
       "</style>\n",
       "<table border=\"1\" class=\"dataframe\">\n",
       "  <thead>\n",
       "    <tr style=\"text-align: right;\">\n",
       "      <th></th>\n",
       "      <th>0</th>\n",
       "      <th>1</th>\n",
       "    </tr>\n",
       "  </thead>\n",
       "  <tbody>\n",
       "    <tr>\n",
       "      <th>Intercept</th>\n",
       "      <td>1.407199</td>\n",
       "      <td>1.445937</td>\n",
       "    </tr>\n",
       "    <tr>\n",
       "      <th>progresa[T.basal]</th>\n",
       "      <td>-0.006357</td>\n",
       "      <td>0.008439</td>\n",
       "    </tr>\n",
       "    <tr>\n",
       "      <th>I(year == 98)[T.True]</th>\n",
       "      <td>0.018883</td>\n",
       "      <td>0.035886</td>\n",
       "    </tr>\n",
       "    <tr>\n",
       "      <th>progresa[T.basal]:I(year == 98)[T.True]</th>\n",
       "      <td>0.020565</td>\n",
       "      <td>0.042126</td>\n",
       "    </tr>\n",
       "    <tr>\n",
       "      <th>sex</th>\n",
       "      <td>0.027862</td>\n",
       "      <td>0.038319</td>\n",
       "    </tr>\n",
       "    <tr>\n",
       "      <th>fam_n</th>\n",
       "      <td>-0.001356</td>\n",
       "      <td>0.000931</td>\n",
       "    </tr>\n",
       "    <tr>\n",
       "      <th>min_dist</th>\n",
       "      <td>0.000633</td>\n",
       "      <td>0.000759</td>\n",
       "    </tr>\n",
       "    <tr>\n",
       "      <th>dist_sec</th>\n",
       "      <td>-0.011051</td>\n",
       "      <td>-0.008635</td>\n",
       "    </tr>\n",
       "    <tr>\n",
       "      <th>hohedu</th>\n",
       "      <td>0.006675</td>\n",
       "      <td>0.008960</td>\n",
       "    </tr>\n",
       "    <tr>\n",
       "      <th>hohwag</th>\n",
       "      <td>-0.000005</td>\n",
       "      <td>0.000003</td>\n",
       "    </tr>\n",
       "    <tr>\n",
       "      <th>hohage</th>\n",
       "      <td>0.000042</td>\n",
       "      <td>0.000552</td>\n",
       "    </tr>\n",
       "    <tr>\n",
       "      <th>age</th>\n",
       "      <td>-0.066565</td>\n",
       "      <td>-0.064773</td>\n",
       "    </tr>\n",
       "  </tbody>\n",
       "</table>\n",
       "</div>"
      ],
      "text/plain": [
       "                                                0         1\n",
       "Intercept                                1.407199  1.445937\n",
       "progresa[T.basal]                       -0.006357  0.008439\n",
       "I(year == 98)[T.True]                    0.018883  0.035886\n",
       "progresa[T.basal]:I(year == 98)[T.True]  0.020565  0.042126\n",
       "sex                                      0.027862  0.038319\n",
       "fam_n                                   -0.001356  0.000931\n",
       "min_dist                                 0.000633  0.000759\n",
       "dist_sec                                -0.011051 -0.008635\n",
       "hohedu                                   0.006675  0.008960\n",
       "hohwag                                  -0.000005  0.000003\n",
       "hohage                                   0.000042  0.000552\n",
       "age                                     -0.066565 -0.064773"
      ]
     },
     "execution_count": 7,
     "metadata": {},
     "output_type": "execute_result"
    }
   ],
   "source": [
    "# Display the 95% confidence intervals for the multi regression \n",
    "did_multi_regression.conf_int(alpha = 0.05, cols = None)"
   ]
  },
  {
   "cell_type": "markdown",
   "id": "6334b9c5-d2e3-4835-8969-32fbb1d9fac5",
   "metadata": {},
   "source": [
    "The 95% confidence interval for this estimator is 0.020565-0.042126. That means that we are 95% confident that the effect of treatment after the campaign would increase the schooling rate by 2.057 percentage points to 4.213 percentage points. This does encompass all other estimates in the previous problem set."
   ]
  },
  {
   "cell_type": "markdown",
   "id": "be655163-5584-4302-a9e1-437c287f0b55",
   "metadata": {},
   "source": [
    "    8. (8pt) What is the identifying assumption behind this DiD estimator? Would you be able to test it to a certain extent using the dataset here? Explain!\n",
    "    Hint: what do you expect to see when comparing different villages? The same villages over time? Do you have this information in these data?"
   ]
  },
  {
   "cell_type": "markdown",
   "id": "01af905a-e0b6-4ca6-b3de-9a551821d513",
   "metadata": {},
   "source": [
    "The DiD estimator's identifying assumption is: In the absence of the treatment, the trend change over time (from 1997 to 1998) would have been similar in the treatment and the control group. From question 1.1, using the data we can observe to predict the characteristics we cannot see. As we noticed some statistically significant differences between the two groups, we should be more careful when claiming the assumption is convincing."
   ]
  },
  {
   "cell_type": "markdown",
   "id": "de96fb09-94d7-46a0-872d-5c17c867ec51",
   "metadata": {},
   "source": [
    "    9. (8pt) Compare this assumption with the assumptions behind CS and BA estimator. Which ones do you find more plausible? Why?\n",
    "    Base your claims in the institutional settings: it is possibly imperfect randomized experiment in poor rural villages. Do you think some assumptions are more likely satisfied than others?"
   ]
  },
  {
   "cell_type": "markdown",
   "id": "0e6915fc-ab88-413e-9596-63ef6377bde1",
   "metadata": {},
   "source": [
    "I don't think any of these assumptions are plausible. We see from question 1.1 that we didn't do great randomization for some of the variables in poor rural villages, which may lead to different trends before the treatment. We also know from the previous problem set that the cross-sectional and before-after estimators are not convincing either.\n",
    "\n",
    "I find the before-after assumption to be satisfied more likely out of all the assumptions. This is because the likelihood of every other variable except those in the model being consistence is lower than the likelihood of variables being consistent over time."
   ]
  },
  {
   "cell_type": "markdown",
   "id": "35fbd8dd-4fed-4675-80f3-f6e5a3f51b13",
   "metadata": {},
   "source": [
    "    10. (4pt) Based on all your work you did above–what is your conclusion about the efficacy of the Progresa program?"
   ]
  },
  {
   "cell_type": "markdown",
   "id": "a013340e-adbf-4e5e-b1cf-073c36fc9129",
   "metadata": {},
   "source": [
    "Based on all the work done above and in the previous problem set. I can conclude that the progresa program improves the schooling rate if the assumption is true. However, the efficiency of the progresa program is not ideal as the percentage point improvement in the schooling rate is not high. If the assumption is not true, we cannot conclude the statement as other factors may lead to the increase."
   ]
  },
  {
   "cell_type": "markdown",
   "id": "0dadb349-aefe-4e15-9491-22043fb548c0",
   "metadata": {},
   "source": [
    "# Leidner etal.(2021) (25pt)"
   ]
  },
  {
   "cell_type": "markdown",
   "id": "e553da9a-e89b-4976-baaa-93b6cf11b2f5",
   "metadata": {},
   "source": [
    "Leidner et al. (2021) (available on canvas in files/readings) analyse the effect of online versus in person instruction from COVID-19 perspective; they find that online instructions help to avoid a substantial number of cases.\n",
    "\n",
    "    1. Read the paper.\n",
    "    \n",
    "    2. (3pt) Let us focus on the unmatched analysis. What kind of counties are the authors comparing in the paper? How many counties do they have? How many of these had remote, how many in-person instructions?"
   ]
  },
  {
   "cell_type": "markdown",
   "id": "d7dd64d7-4982-4c69-a662-da08382af975",
   "metadata": {},
   "source": [
    "In the unmatched analysis, they are comparing university counties with non-university counties. Within university counties, they are looking at remote vs. in-person instruction. There are 133 counties with large colleges and universities, the 101 in which classes started from July 27 to August 28 were included in the analysis. There are also 3,009 non-university counties. Among the 101 university counties, 22 had remote, and 79 had in-person."
   ]
  },
  {
   "cell_type": "markdown",
   "id": "f093b574-6c5a-4289-b041-8696c4836635",
   "metadata": {},
   "source": [
    "    3. (2pt) Which time period are they looking at?"
   ]
  },
  {
   "cell_type": "markdown",
   "id": "6727bc31-da97-41a5-b68c-441c6e5dedd3",
   "metadata": {},
   "source": [
    "The time period they are looking at is the 21 days before and 21 days after the start of the classes."
   ]
  },
  {
   "cell_type": "markdown",
   "id": "24876dc2-68e0-4a7e-a442-c2ba205bc666",
   "metadata": {},
   "source": [
    "    4. (4pt) What is treatment in this case? (You can define it in different ways)."
   ]
  },
  {
   "cell_type": "markdown",
   "id": "0bdff5f0-3ee5-4ecb-8913-c69ab5f990ee",
   "metadata": {},
   "source": [
    "The treatment variable is in-person instruction at university counties. The control group is the remote instruction university counties, and the treatment group is in-person instruction at university counties."
   ]
  },
  {
   "cell_type": "markdown",
   "id": "9be10aad-d0f0-4b7e-8efc-93f97a78712f",
   "metadata": {},
   "source": [
    "    5. (3pt) What is the main outcome measure the authors discuss?"
   ]
  },
  {
   "cell_type": "markdown",
   "id": "5bd23b4f-91d4-4d87-9ab8-e52be29fca92",
   "metadata": {},
   "source": [
    "The main outcome measure the authors discuss is the average county COVID-19 incidence in university counties."
   ]
  },
  {
   "cell_type": "markdown",
   "id": "8c7f5579-2699-4d3d-94d5-5a607458a4eb",
   "metadata": {},
   "source": [
    "    6. (4pt) Why do authors analyze percentage positive results in testing?"
   ]
  },
  {
   "cell_type": "markdown",
   "id": "3a9932f7-b162-4768-bdb6-6995ec8440b0",
   "metadata": {},
   "source": [
    "The authors analyze percentage positive results in testing because they want to make sure that the county COVID-19 incidence is not confounded by different testing rates. For example, if a university county with in-person attendance is tested way more than a remote instruction, the COVID-19 incidence would be higher only because of the number of tests done to the in-person instruction county. "
   ]
  },
  {
   "cell_type": "markdown",
   "id": "4c115d8b-a269-4d0e-be2a-0874ed4ac558",
   "metadata": {},
   "source": [
    "    7. (4pt) The authors provide the figures for COVID-19 incidence (in table). Take the numbers and use those to do DiD youself! Show the calculations and the answer.\n",
    "    Note: You don’t really need computers, the table provides the four averages, so you only have to compute the differences of those.\n",
    "    Hint: effect should be 11.8 (or -11.8, depending which way you define it)."
   ]
  },
  {
   "cell_type": "code",
   "execution_count": 8,
   "id": "66607e2e-8c1e-4fd9-95f4-31bb438b4c76",
   "metadata": {},
   "outputs": [
    {
     "name": "stdout",
     "output_type": "stream",
     "text": [
      "The difference in difference estimator is: 11.799999999999997\n"
     ]
    }
   ],
   "source": [
    "# Compute the difference in difference estimator for the article\n",
    "leinder_did_estimator = (23.9 - 15.3) - (14.7 - 17.9)\n",
    "print(\"The difference in difference estimator is:\", leinder_did_estimator)"
   ]
  },
  {
   "cell_type": "markdown",
   "id": "1815c6ef-b7f4-457d-930c-09d47072bf19",
   "metadata": {},
   "source": [
    "    8. (5pt) What are the identifying assumptions? Do you find these credible?\n",
    "    Hint: read about the limitations of the study and think which limitations are about identification."
   ]
  },
  {
   "cell_type": "markdown",
   "id": "42de5d05-c9a9-40ce-a330-4e65ac3fea76",
   "metadata": {},
   "source": [
    "The identifying assumption for this study is that COVID-19 incidence rates in counties would have been similar for both treatment and control without the treatment being applied. From reading the limitations part of the study, it is realized that this study did not adjust for mitigation strategies (e.g., mask and social distancing requirements and limits on large crowds and athletic events) implemented at local or state levels or at colleges and universities, which could have affected the association between the institution’s opening and county-level incidence.  \n",
    "\n",
    "The graph in the article shows the trend before and after the treatment. We can tell that before treatment, university counties with in-person instructions have a similar trend with remote instructions. Therefore, I find these to be credible."
   ]
  },
  {
   "cell_type": "markdown",
   "id": "0eb6e9f7-2685-48fb-ba0b-a457c072d135",
   "metadata": {},
   "source": [
    "# Finally How much time spent on this PS?"
   ]
  },
  {
   "cell_type": "markdown",
   "id": "2051b72d-0593-49ca-ad72-f69737d3d47d",
   "metadata": {},
   "source": [
    "I spent about 10 hours on this PS."
   ]
  }
 ],
 "metadata": {
  "kernelspec": {
   "display_name": "Python 3 (ipykernel)",
   "language": "python",
   "name": "python3"
  },
  "language_info": {
   "codemirror_mode": {
    "name": "ipython",
    "version": 3
   },
   "file_extension": ".py",
   "mimetype": "text/x-python",
   "name": "python",
   "nbconvert_exporter": "python",
   "pygments_lexer": "ipython3",
   "version": "3.9.7"
  }
 },
 "nbformat": 4,
 "nbformat_minor": 5
}
