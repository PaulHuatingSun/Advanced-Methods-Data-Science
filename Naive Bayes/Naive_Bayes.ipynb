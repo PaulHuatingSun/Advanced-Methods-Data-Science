{
 "cells": [
  {
   "cell_type": "code",
   "execution_count": 1,
   "id": "3c79e86d-f58f-46d0-b280-0c7a218a3245",
   "metadata": {
    "id": "3c79e86d-f58f-46d0-b280-0c7a218a3245",
    "tags": []
   },
   "outputs": [],
   "source": [
    "# Load necessary packages\n",
    "import numpy as np\n",
    "import pandas as pd\n",
    "import textwrap\n",
    "import matplotlib.pyplot as plt\n",
    "from sklearn.feature_extraction.text import CountVectorizer\n",
    "from sklearn.model_selection import train_test_split\n",
    "from sklearn.metrics import confusion_matrix\n",
    "from sklearn.metrics import accuracy_score\n",
    "import warnings\n",
    "warnings.filterwarnings(\"ignore\")"
   ]
  },
  {
   "cell_type": "markdown",
   "id": "9ac5b789-282a-457f-8fb8-6af103d45007",
   "metadata": {
    "id": "9ac5b789-282a-457f-8fb8-6af103d45007"
   },
   "source": [
    "# Load and clean data"
   ]
  },
  {
   "cell_type": "markdown",
   "id": "fbce8d9c-17c0-4b77-ad02-f8b21e687412",
   "metadata": {
    "id": "fbce8d9c-17c0-4b77-ad02-f8b21e687412"
   },
   "source": [
    "    1. (1pt) Load and clean data. Feel free to copy-paste from your PS05 solution.    "
   ]
  },
  {
   "cell_type": "code",
   "execution_count": 2,
   "id": "0f0cf0c4-29ee-44ca-9675-0546888b61f7",
   "metadata": {
    "colab": {
     "base_uri": "https://localhost:8080/",
     "height": 380
    },
    "id": "0f0cf0c4-29ee-44ca-9675-0546888b61f7",
    "outputId": "77644a54-ca5c-4d0a-d01c-f2833ace81a2"
   },
   "outputs": [
    {
     "name": "stdout",
     "output_type": "stream",
     "text": [
      "<class 'pandas.core.frame.DataFrame'>\n",
      "Int64Index: 2893 entries, 0 to 2892\n",
      "Data columns (total 3 columns):\n",
      " #   Column   Non-Null Count  Dtype \n",
      "---  ------   --------------  ----- \n",
      " 0   spam     2893 non-null   bool  \n",
      " 1   files    2893 non-null   object\n",
      " 2   message  2893 non-null   object\n",
      "dtypes: bool(1), object(2)\n",
      "memory usage: 70.6+ KB\n"
     ]
    },
    {
     "data": {
      "text/html": [
       "<div>\n",
       "<style scoped>\n",
       "    .dataframe tbody tr th:only-of-type {\n",
       "        vertical-align: middle;\n",
       "    }\n",
       "\n",
       "    .dataframe tbody tr th {\n",
       "        vertical-align: top;\n",
       "    }\n",
       "\n",
       "    .dataframe thead th {\n",
       "        text-align: right;\n",
       "    }\n",
       "</style>\n",
       "<table border=\"1\" class=\"dataframe\">\n",
       "  <thead>\n",
       "    <tr style=\"text-align: right;\">\n",
       "      <th></th>\n",
       "      <th>spam</th>\n",
       "      <th>files</th>\n",
       "      <th>message</th>\n",
       "    </tr>\n",
       "  </thead>\n",
       "  <tbody>\n",
       "    <tr>\n",
       "      <th>349</th>\n",
       "      <td>False</td>\n",
       "      <td>9-671msg1.txt</td>\n",
       "      <td>Subject: sociolinguistics  mediated discourse ...</td>\n",
       "    </tr>\n",
       "    <tr>\n",
       "      <th>1172</th>\n",
       "      <td>False</td>\n",
       "      <td>6-266msg3.txt</td>\n",
       "      <td>Subject: bisfai deadline extension !  bisfai d...</td>\n",
       "    </tr>\n",
       "    <tr>\n",
       "      <th>695</th>\n",
       "      <td>False</td>\n",
       "      <td>5-1430msg1.txt</td>\n",
       "      <td>Subject: query : \" grasshopper mind \" ?  are y...</td>\n",
       "    </tr>\n",
       "    <tr>\n",
       "      <th>1735</th>\n",
       "      <td>True</td>\n",
       "      <td>spmsgb164.txt</td>\n",
       "      <td>Subject: university degree programs  universit...</td>\n",
       "    </tr>\n",
       "    <tr>\n",
       "      <th>2574</th>\n",
       "      <td>True</td>\n",
       "      <td>spmsgc117.txt</td>\n",
       "      <td>Subject: info on office 2000 pro  microsoft of...</td>\n",
       "    </tr>\n",
       "  </tbody>\n",
       "</table>\n",
       "</div>"
      ],
      "text/plain": [
       "       spam           files                                            message\n",
       "349   False   9-671msg1.txt  Subject: sociolinguistics  mediated discourse ...\n",
       "1172  False   6-266msg3.txt  Subject: bisfai deadline extension !  bisfai d...\n",
       "695   False  5-1430msg1.txt  Subject: query : \" grasshopper mind \" ?  are y...\n",
       "1735   True   spmsgb164.txt  Subject: university degree programs  universit...\n",
       "2574   True   spmsgc117.txt  Subject: info on office 2000 pro  microsoft of..."
      ]
     },
     "execution_count": 2,
     "metadata": {},
     "output_type": "execute_result"
    }
   ],
   "source": [
    "# Load the dataset\n",
    "email_df = pd.read_csv('/home/jovyan/INFO371PS/Data/lingspam-emails.csv', sep = \"\\t\")\n",
    "# Drop the NA values and print basic information\n",
    "email_df = email_df.dropna(subset=['spam', 'message'])\n",
    "email_df.info()\n",
    "# Browse a handful of emails\n",
    "email_df.sample(5)"
   ]
  },
  {
   "cell_type": "markdown",
   "id": "ec1e31ee-f1ab-437b-b1aa-e212ad7ebf21",
   "metadata": {
    "id": "ec1e31ee-f1ab-437b-b1aa-e212ad7ebf21"
   },
   "source": [
    "    2. (2pt) Vectorize emails so you have a DTM (I’ll refer to this as the design matrix X) and the spam/non-spam indicator y. If you don’t know how to do it, you can just use the code below:\n",
    "    How many different documents (emails) and different tokens (words) do you have in these data?"
   ]
  },
  {
   "cell_type": "code",
   "execution_count": 3,
   "id": "cb99d989-ee95-48cb-9621-cd769b4cd712",
   "metadata": {
    "colab": {
     "base_uri": "https://localhost:8080/",
     "height": 235
    },
    "id": "cb99d989-ee95-48cb-9621-cd769b4cd712",
    "outputId": "f372ec93-c4c4-4879-e5f9-753f1cc89a18"
   },
   "outputs": [],
   "source": [
    "vectorizer = CountVectorizer(binary=True)\n",
    "# define vectorizer\n",
    "X = vectorizer.fit_transform(email_df.message)\n",
    "# vectorize your data. Note: this creates a sparse matrix,\n",
    "# use .toarray() if you run into trouble\n",
    "vocabulary = vectorizer.get_feature_names_out()\n",
    "# in case you want to see what are the actual wordsvvv\n",
    "y = email_df['spam']"
   ]
  },
  {
   "cell_type": "code",
   "execution_count": 4,
   "id": "a67e12e0-3099-4032-849c-567f0796bf90",
   "metadata": {
    "colab": {
     "base_uri": "https://localhost:8080/"
    },
    "id": "a67e12e0-3099-4032-849c-567f0796bf90",
    "outputId": "e568a190-105a-483b-c853-a5fba760dcb9"
   },
   "outputs": [
    {
     "name": "stdout",
     "output_type": "stream",
     "text": [
      "There are 2893 emails in the dataset.\n",
      "There are 60925 different tokens in the dataset.\n"
     ]
    }
   ],
   "source": [
    "print(\"There are\", email_df.shape[0], \"emails in the dataset.\")\n",
    "print(\"There are\", len(vocabulary), \"different tokens in the dataset.\")"
   ]
  },
  {
   "cell_type": "markdown",
   "id": "7fb58494-b72e-4b2c-adfb-909211e53620",
   "metadata": {
    "id": "7fb58494-b72e-4b2c-adfb-909211e53620"
   },
   "source": [
    "    3. (2pt) Split data into training/validation chunks."
   ]
  },
  {
   "cell_type": "code",
   "execution_count": 5,
   "id": "d44bf81f-0f52-40ea-992e-beb39d5c54e5",
   "metadata": {
    "id": "d44bf81f-0f52-40ea-992e-beb39d5c54e5"
   },
   "outputs": [],
   "source": [
    "# Split data into training and validation set\n",
    "X_train, X_val, y_train, y_val = train_test_split(X, y, test_size = 0.2)"
   ]
  },
  {
   "cell_type": "markdown",
   "id": "1a0b0951-81d0-47d3-bd0f-8e57ee4104d0",
   "metadata": {
    "id": "1a0b0951-81d0-47d3-bd0f-8e57ee4104d0"
   },
   "source": [
    "    4. (2pt) Design a scheme to name your variables so you can understand (and you grader can understand too!) which mathematical concept it refers to. You need variables like (see Lecture notes, Ch 7.3 for more examples/explanations):\n",
    "    •Pr(S=1): probability of spam\n",
    "    •Pr(S=0|W=1): probability the email is not spam given it cointains the word W\n",
    "    •log Pr(W=1): log probability of word present\n",
    "    •ℓ(S=1|W): log-likelihood of email being spam, given vector of words it contains.\n",
    "    Explain how do you name these examples values."
   ]
  },
  {
   "cell_type": "markdown",
   "id": "37a88329-976f-4586-a3d5-48662f267d2f",
   "metadata": {
    "id": "37a88329-976f-4586-a3d5-48662f267d2f"
   },
   "source": [
    "| Variable Name | Notation                 | Definition                                                          |\n",
    "|---------------|--------------------------|--------------------------------------------------------------------|\n",
    "| Pr_S1         | Pr(S = 1)           | Probability that the email is spam                               |\n",
    "| Pr_S0         | Pr(S = 0)           | Probability that the email is non-spam                           |\n",
    "| Pr_W1_S1      | Pr(W = 1\\|S = 1)     | Probability of the word is present given the condition that the email is spam|\n",
    "| Pr_W1_S0      | Pr(W = 1\\|S = 0)     | Probability of the word is present given the condition that the email is non-spam |\n",
    "| logPr_S1      | log Pr(S = 1)       | Log probability that the email is spam                            |\n",
    "| logPr_S0      | log Pr(S = 0)       | Log probability that the email is non-spam                        |\n",
    "| logPr_W1_S1   | log Pr(W = 1\\|S = 1) | Log probability that the word is present in spam emails             |\n",
    "| logPr_W1_S0   | log Pr(W = 1\\|S = 0) | Log probability that the word is present in non-spam emails         |\n",
    "| logPr_S1_W1   | log Pr(W = 1\\|S = 1) | Log probability that the email is spam given the condition that the word is present |\n",
    "| logPr_S0_W1   | log Pr(W = 1\\|S = 0) | Log probability that the email is non-spam given the condition that the word is present |\n",
    "| L_S1          | Pr(S = 1\\|W)         | Log-likelihood for spam                                            |\n",
    "| L_S0          | Pr(S = 0\\|W)         | Log-likelihood for non-spam                                        |"
   ]
  },
  {
   "cell_type": "markdown",
   "id": "cf2a7ebf-eff0-47e1-9f55-0687fdc9a15a",
   "metadata": {
    "id": "cf2a7ebf-eff0-47e1-9f55-0687fdc9a15a"
   },
   "source": [
    "# Naïve Bayes"
   ]
  },
  {
   "cell_type": "markdown",
   "id": "881e1a9c-0394-4043-aafd-27d72c745fa6",
   "metadata": {
    "id": "881e1a9c-0394-4043-aafd-27d72c745fa6"
   },
   "source": [
    "    1. (4pt) Here is a small excerpt from the initial DTM (before you split it into training/validation), corresponding to rows 983 to 985, and to columns 40,042–40,046:\n",
    "    What do these numbers show:"
   ]
  },
  {
   "cell_type": "markdown",
   "id": "722d742b-3044-4262-80e3-b81e7688ffc5",
   "metadata": {
    "id": "722d742b-3044-4262-80e3-b81e7688ffc5"
   },
   "source": [
    "    (a) which emails do the rows correspond to?"
   ]
  },
  {
   "cell_type": "code",
   "execution_count": 6,
   "id": "a2947680-d711-448f-9b4d-c3002261e239",
   "metadata": {
    "colab": {
     "base_uri": "https://localhost:8080/"
    },
    "id": "a2947680-d711-448f-9b4d-c3002261e239",
    "outputId": "aea9a406-635e-44d3-8ec6-394ede0abe24"
   },
   "outputs": [
    {
     "name": "stdout",
     "output_type": "stream",
     "text": [
      "The rows corresponds to the emails at indices 983 to 985:\n"
     ]
    },
    {
     "data": {
      "text/plain": [
       "982    Subject: summary : parsing of ambiguous sequen...\n",
       "983    Subject: re : sapir - whorf and what to tell s...\n",
       "984    Subject: call for contributions  call for cont...\n",
       "Name: message, dtype: object"
      ]
     },
     "execution_count": 6,
     "metadata": {},
     "output_type": "execute_result"
    }
   ],
   "source": [
    "# Print out the messages corresponds to rows 983 to 985\n",
    "print(\"The rows corresponds to the emails at indices 983 to 985:\")\n",
    "email_df.message[982:985]"
   ]
  },
  {
   "cell_type": "markdown",
   "id": "ac632132-bba4-4749-903b-a6a450792a67",
   "metadata": {
    "id": "ac632132-bba4-4749-903b-a6a450792a67"
   },
   "source": [
    "    (b) Which words do the columns correspond to?"
   ]
  },
  {
   "cell_type": "code",
   "execution_count": 7,
   "id": "63ac1800-e2d5-4170-a95d-189635b48bc2",
   "metadata": {
    "colab": {
     "base_uri": "https://localhost:8080/"
    },
    "id": "63ac1800-e2d5-4170-a95d-189635b48bc2",
    "outputId": "ea05bc62-ede3-4bee-d2c9-ee6c598628ea"
   },
   "outputs": [
    {
     "data": {
      "text/plain": [
       "array(['nooteboom', 'nootka', 'nope', 'nor', 'nora'], dtype=object)"
      ]
     },
     "execution_count": 7,
     "metadata": {},
     "output_type": "execute_result"
    }
   ],
   "source": [
    "# Find the corresponding words to the columns 40,042 to 40,046\n",
    "vocabulary[40041:40046]"
   ]
  },
  {
   "cell_type": "markdown",
   "id": "348dfc3b-6b54-488a-be8e-c3dd455b83d5",
   "metadata": {
    "id": "348dfc3b-6b54-488a-be8e-c3dd455b83d5"
   },
   "source": [
    "The words the columns correspond to are: \"nootka\", \"nope\", \"nor\", \"nora\""
   ]
  },
  {
   "cell_type": "markdown",
   "id": "e40bb471-f657-4f6c-9ce4-c73ea8f5aa07",
   "metadata": {
    "id": "e40bb471-f657-4f6c-9ce4-c73ea8f5aa07"
   },
   "source": [
    "    (c) What do the “1”-s in the middle of the table mean?"
   ]
  },
  {
   "cell_type": "code",
   "execution_count": 8,
   "id": "6b52367b-d446-446b-9109-c2653e3ae5f7",
   "metadata": {
    "colab": {
     "base_uri": "https://localhost:8080/"
    },
    "id": "6b52367b-d446-446b-9109-c2653e3ae5f7",
    "outputId": "3ff44ae1-0168-4dcd-e349-8f14401e41fa"
   },
   "outputs": [
    {
     "data": {
      "text/plain": [
       "array([[0, 0, 0, 0, 0],\n",
       "       [0, 1, 0, 1, 0],\n",
       "       [0, 0, 0, 0, 0]])"
      ]
     },
     "execution_count": 8,
     "metadata": {},
     "output_type": "execute_result"
    }
   ],
   "source": [
    "# Extract the corresponding rows and columns\n",
    "X[982:985, 40041:40046].toarray()"
   ]
  },
  {
   "cell_type": "markdown",
   "id": "78d23151-321d-410a-acfe-8125eac5b95d",
   "metadata": {
    "id": "78d23151-321d-410a-acfe-8125eac5b95d"
   },
   "source": [
    "The first 1 in the table indicates that the presence of word \"nootka\" in the email at row index 984. The second 1 in the table indicates the presence of the word \"nor\" in the email at row index 984."
   ]
  },
  {
   "cell_type": "markdown",
   "id": "2831be99-8004-4140-91e5-ae6f3185460d",
   "metadata": {
    "id": "2831be99-8004-4140-91e5-ae6f3185460d"
   },
   "source": [
    "    (d) What do the zeros mean?\n",
    "    Note: you should have exactly the same numbers in your analysis, this is not random."
   ]
  },
  {
   "cell_type": "markdown",
   "id": "fYiGzcpF5M2g",
   "metadata": {
    "id": "fYiGzcpF5M2g"
   },
   "source": [
    "The zeros mean that the corresponding word does not appear in the correspoinding email."
   ]
  },
  {
   "cell_type": "markdown",
   "id": "e4661c99-1204-4c31-857a-c96a5a6bc189",
   "metadata": {
    "id": "e4661c99-1204-4c31-857a-c96a5a6bc189"
   },
   "source": [
    "    2. (2pt) What is the accuracy of the naive model that predicts all emails into the majority category?"
   ]
  },
  {
   "cell_type": "code",
   "execution_count": 9,
   "id": "4b5f314a-4ab0-4a4f-9552-974f9b4f7a71",
   "metadata": {
    "colab": {
     "base_uri": "https://localhost:8080/"
    },
    "id": "4b5f314a-4ab0-4a4f-9552-974f9b4f7a71",
    "outputId": "19f06b41-7aa3-4885-c391-39a00cd60f21"
   },
   "outputs": [
    {
     "name": "stdout",
     "output_type": "stream",
     "text": [
      "0.8337366055997235\n"
     ]
    }
   ],
   "source": [
    "# Compute the accuracy of the naive model that predicts all emails into the majority category\n",
    "count_S0 = np.size(y) - np.count_nonzero(y)\n",
    "count_S1 = np.count_nonzero(y)\n",
    "\n",
    "if count_S1 > count_S0:\n",
    "  print(np.mean(y))\n",
    "else:\n",
    "  print(1 - np.mean(y))"
   ]
  },
  {
   "cell_type": "markdown",
   "id": "wPN7mczN7e1r",
   "metadata": {
    "id": "wPN7mczN7e1r"
   },
   "source": [
    "The accuracy of the naive model that predicts all emails into the majority category (non-spam emails) is about 83.37%."
   ]
  },
  {
   "cell_type": "markdown",
   "id": "49ca35af-fdd1-47db-bf2c-c5c3cdc57e4c",
   "metadata": {
    "id": "49ca35af-fdd1-47db-bf2c-c5c3cdc57e4c"
   },
   "source": [
    "    3. (3pt) Compute the unconditional (log) probability that the email is spam/non-spam, log Pr(S=1), and log Pr(S=0). These probabilities are based on the values of y(i.e. spam) alone. They do not contain information about the words in emails."
   ]
  },
  {
   "cell_type": "code",
   "execution_count": 10,
   "id": "fa9c07d5-3d86-4fc2-9c86-6e6fdf14d2de",
   "metadata": {
    "colab": {
     "base_uri": "https://localhost:8080/"
    },
    "id": "fa9c07d5-3d86-4fc2-9c86-6e6fdf14d2de",
    "outputId": "47363e3d-b312-4de1-c18c-56b1bf4eeecf"
   },
   "outputs": [
    {
     "name": "stdout",
     "output_type": "stream",
     "text": [
      "Log Probability of the email being spam is: -1.790895538288791\n",
      "Log Probability of the email being non-spam is: -0.1824944325831309\n"
     ]
    }
   ],
   "source": [
    "# Compute the log probabilities for spam/non-spam emails\n",
    "Pr_S1 = np.mean(y_train == 1)\n",
    "# Pr_S0 = np.mean(y_train == 0)\n",
    "Pr_S0 = 1 - Pr_S1\n",
    "logPr_S1 = np.log(Pr_S1)\n",
    "logPr_S0 = np.log(Pr_S0)\n",
    "print('Log Probability of the email being spam is:', logPr_S1)\n",
    "print('Log Probability of the email being non-spam is:', logPr_S0)"
   ]
  },
  {
   "cell_type": "markdown",
   "id": "43457215-4ca9-4dff-936d-b71ccf2d7632",
   "metadata": {
    "id": "43457215-4ca9-4dff-936d-b71ccf2d7632"
   },
   "source": [
    "    4. (8pt) For each word w, compute the (log) probability that the word is present in spam emails, log Pr(W=1|S=1), and (log) probability that the word is present in non-spam emails, log Pr(W= 1|S=0). These probabilities can easily be calculated from counts of how many times these words are present for each class.\n",
    "    Hint: these computations are based on your BOW-s X. Look at ways to sum along columns in this matrix."
   ]
  },
  {
   "cell_type": "code",
   "execution_count": 11,
   "id": "7ceffaee-db36-489e-a2ce-0571f1d734f8",
   "metadata": {
    "colab": {
     "base_uri": "https://localhost:8080/"
    },
    "id": "7ceffaee-db36-489e-a2ce-0571f1d734f8",
    "outputId": "a4f0691d-adbd-4f1d-e7ab-e0abe7c34ccc"
   },
   "outputs": [
    {
     "data": {
      "text/plain": [
       "(matrix([[-1.12752363, -1.12752363, -5.95583737, ...,        -inf,\n",
       "          -5.95583737,        -inf]]),\n",
       " matrix([[-1.8308972 , -2.94911796, -7.56423848, ..., -7.56423848,\n",
       "                 -inf,        -inf]]))"
      ]
     },
     "execution_count": 11,
     "metadata": {},
     "output_type": "execute_result"
    }
   ],
   "source": [
    "# Compute the Pr(W=1|S=1) and Pr(W=1|S=0)\n",
    "Pr_W1_S1 = np.mean(X_train[y_train == 1], axis = 0)\n",
    "Pr_W1_S0 = np.mean(X_train[y_train == 0], axis = 0)\n",
    "# Compute the log of Pr(W=1|S=1) and Pr(W=1|S=0)\n",
    "logPr_W1_S1 = np.log(Pr_W1_S1)\n",
    "logPr_W1_S0 = np.log(Pr_W1_S0)\n",
    "# Print following results\n",
    "logPr_W1_S1, logPr_W1_S0"
   ]
  },
  {
   "cell_type": "markdown",
   "id": "e9d00a8f-4a4e-4d7e-ad1f-6d2a032a7973",
   "metadata": {
    "id": "e9d00a8f-4a4e-4d7e-ad1f-6d2a032a7973"
   },
   "source": [
    "    5. (1pt) What should be the dimension of your log Pr(W=1|S=0)and log Pr(W=1|S=0)vectors?\n",
    "    Explain!"
   ]
  },
  {
   "cell_type": "code",
   "execution_count": 12,
   "id": "3aa2d644-e422-44c3-ab82-88128e8303e8",
   "metadata": {},
   "outputs": [
    {
     "data": {
      "text/plain": [
       "(1, 60925)"
      ]
     },
     "execution_count": 12,
     "metadata": {},
     "output_type": "execute_result"
    }
   ],
   "source": [
    "# Print the shape of the log Pr(W=1|S=0)\n",
    "logPr_W1_S0.shape"
   ]
  },
  {
   "cell_type": "code",
   "execution_count": 13,
   "id": "9ce52972-1caa-48cf-98f3-e850fd0aafb5",
   "metadata": {},
   "outputs": [
    {
     "data": {
      "text/plain": [
       "(1, 60925)"
      ]
     },
     "execution_count": 13,
     "metadata": {},
     "output_type": "execute_result"
    }
   ],
   "source": [
    "# Print the shape of the log Pr(W=1|S=1)\n",
    "logPr_W1_S1.shape"
   ]
  },
  {
   "cell_type": "markdown",
   "id": "de4e49af-a359-43c8-abd7-cfef45bc7135",
   "metadata": {},
   "source": [
    "The dimension should be 1 row with 60925 columns. The 1 row holds the probabilities for each of the 60925 words."
   ]
  },
  {
   "cell_type": "markdown",
   "id": "4a3f407e-506b-483f-92aa-fb6d18eeea69",
   "metadata": {
    "id": "4a3f407e-506b-483f-92aa-fb6d18eeea69"
   },
   "source": [
    "    6. (10pt) For both classes, S=1 and S=0, compute the log-likelihood that the email belongs to this class. Log-likelihood is given as (7.3.20 and 7.3.21, page 270 for now) in lecture notes, and the equations in Schutt “Doing Data Science”, page 102. \n",
    "    Computing the likelihoods involves sums of the previously computed probabilities, log Pr(W=1|S), and BOW elements xij. Start by doing this by whatever way you can get it done (e.g. loops). The most important thing is that you understand what you do!\n",
    "    But if you want to write efficient code, use matrix product instead (it is ∼1000×faster than loops). See Lecture Notes (7.30.30) for how to do it with matrix product. You can also check out np.apply_along_axis as an alternative way to do it."
   ]
  },
  {
   "cell_type": "code",
   "execution_count": 14,
   "id": "7a234624-24f1-4f67-8d35-5cac88d03262",
   "metadata": {
    "colab": {
     "base_uri": "https://localhost:8080/"
    },
    "id": "7a234624-24f1-4f67-8d35-5cac88d03262",
    "outputId": "942ed097-5796-4620-dc91-791a6d54c0ca"
   },
   "outputs": [],
   "source": [
    "# Compute log Pr(W=1|S=1) and log Pr(W=1|S=0)\n",
    "L_S1 = X_val @ logPr_W1_S1.T + logPr_S1\n",
    "L_S0 = X_val @ logPr_W1_S0.T + logPr_S0 "
   ]
  },
  {
   "cell_type": "code",
   "execution_count": 15,
   "id": "-GOnnn8G1gBd",
   "metadata": {
    "colab": {
     "base_uri": "https://localhost:8080/"
    },
    "id": "-GOnnn8G1gBd",
    "outputId": "e6a46136-79db-4e66-faa0-cd03fe7648b0"
   },
   "outputs": [
    {
     "data": {
      "text/plain": [
       "matrix([[-1.12752363, -1.12752363, -5.95583737, ...,        -inf,\n",
       "         -5.95583737,        -inf]])"
      ]
     },
     "execution_count": 15,
     "metadata": {},
     "output_type": "execute_result"
    }
   ],
   "source": [
    "logPr_W1_S1"
   ]
  },
  {
   "cell_type": "markdown",
   "id": "6ebfdebe-12d9-444b-b155-0e07ecfbf7aa",
   "metadata": {
    "id": "6ebfdebe-12d9-444b-b155-0e07ecfbf7aa"
   },
   "source": [
    "    7. (2pt) How many log-likelihoods you have to compute? Explain why do you have to have this many log-likelihoods."
   ]
  },
  {
   "cell_type": "code",
   "execution_count": 16,
   "id": "b261eadf-012a-4cd1-9ae9-920d110a513f",
   "metadata": {
    "colab": {
     "base_uri": "https://localhost:8080/"
    },
    "id": "b261eadf-012a-4cd1-9ae9-920d110a513f",
    "outputId": "6044713e-a169-443b-f55c-0fb1901bf32e"
   },
   "outputs": [
    {
     "data": {
      "text/plain": [
       "1158"
      ]
     },
     "execution_count": 16,
     "metadata": {},
     "output_type": "execute_result"
    }
   ],
   "source": [
    "# Find the total number of log-likelihoods \n",
    "L_S1.shape[0] + L_S0.shape[0]"
   ]
  },
  {
   "cell_type": "markdown",
   "id": "la-49tfPCmFw",
   "metadata": {
    "id": "la-49tfPCmFw"
   },
   "source": [
    "1158 log-likelihoods were computed. This is because there are 579 emails in the validation data and 2 log-likelihoods for each emails to make predictions. 579 * 2 = 1158."
   ]
  },
  {
   "cell_type": "markdown",
   "id": "a6b8f199-9504-41be-9dc8-5ef1bc305a3f",
   "metadata": {
    "id": "a6b8f199-9504-41be-9dc8-5ef1bc305a3f"
   },
   "source": [
    "    8. (7pt) Based on the log-likelihoods, predict the class S=1 or S=0 for each email in the validation set."
   ]
  },
  {
   "cell_type": "code",
   "execution_count": 17,
   "id": "d588bab1-30ed-4ea8-b885-0ba31c496f7d",
   "metadata": {
    "id": "d588bab1-30ed-4ea8-b885-0ba31c496f7d"
   },
   "outputs": [],
   "source": [
    "# Make predictions based on the log-likelihoods and make them 1/0\n",
    "prediction = L_S1 > L_S0\n",
    "prediction = prediction * 1"
   ]
  },
  {
   "cell_type": "markdown",
   "id": "f8b46c56-fee3-4b12-9b41-d690427e3f67",
   "metadata": {
    "id": "f8b46c56-fee3-4b12-9b41-d690427e3f67"
   },
   "source": [
    "    9. (3pt) Print the resulting confusion matrix and accuracy (feel free to use existing libraries)."
   ]
  },
  {
   "cell_type": "code",
   "execution_count": 18,
   "id": "6acc3ee6-807d-46cf-97b9-1bda7bd1fd22",
   "metadata": {
    "colab": {
     "base_uri": "https://localhost:8080/"
    },
    "id": "6acc3ee6-807d-46cf-97b9-1bda7bd1fd22",
    "outputId": "c1e44ad5-176c-43d3-f3bc-bc2bf73e1fa6"
   },
   "outputs": [
    {
     "name": "stdout",
     "output_type": "stream",
     "text": [
      "Confusion Matrix:\n",
      "[[484   0]\n",
      " [ 81  14]]\n",
      "Accuracy:\n",
      "0.8601036269430051\n"
     ]
    }
   ],
   "source": [
    "# Print the confusion matrix and accuracy\n",
    "print(\"Confusion Matrix:\")\n",
    "print(confusion_matrix(y_val, prediction))\n",
    "print(\"Accuracy:\")\n",
    "print(accuracy_score(y_val, prediction))"
   ]
  },
  {
   "cell_type": "markdown",
   "id": "1141906d-c02e-401d-9969-40caea8d14a4",
   "metadata": {
    "id": "1141906d-c02e-401d-9969-40caea8d14a4"
   },
   "source": [
    "    10. (5pt) If your results are like mine, you can see that the results are not impressive at all, your model works no better than the naive guess. Explain why do you get such mediocre results.\n",
    "    Hint: this is related to infinites, where are those coming from, and why they make the model useless? See also the smoothing-related discussion in Lecture Notes at the end of the Naive Bayes (Section 7.3.3), before Example 7.3.\n",
    "    Note: just explain, but do not do anything about it! We’ll attack the problem in the next question with smoothing."
   ]
  },
  {
   "cell_type": "markdown",
   "id": "48b6aa39-4c16-460a-afcf-d7652a85e9d3",
   "metadata": {
    "id": "2bc3bdc4-1260-44c4-b674-4b083c1d915b"
   },
   "source": [
    "The not impressive results are due to the number of -infinity values in the log Pr(W = 1|S = 0) and log Pr(W = 1|S = 1). The -infinity values come from using log and because these log values are so small, we cannot determine whether Pr(W = 1|S = 0) or Pr(W = 1|S = 1) is larger to make an accurate prediction on the emails.\n",
    "\n",
    "Rare words that only occur in one class (spam or non spam) are categorized as having a 100% probability for the class they belong in and 0% probability for the one they're not in. Using log-likelihood only shifts the issue from zero-likelihood to minus-infinity-log-likelihood, which is no help. This makes the model useless because the other words in the text play no role - zero/negative infinity remains zero/negative infinity even when multiplied by other positive probabilities."
   ]
  },
  {
   "cell_type": "markdown",
   "id": "281d25b5-4193-4976-b5ae-80f5cecc07eb",
   "metadata": {
    "id": "281d25b5-4193-4976-b5ae-80f5cecc07eb"
   },
   "source": [
    "# Add smoothing"
   ]
  },
  {
   "cell_type": "markdown",
   "id": "6c4854b2-8add-4923-9e2a-b294bb5d627a",
   "metadata": {
    "id": "6c4854b2-8add-4923-9e2a-b294bb5d627a"
   },
   "source": [
    "    1. (2pt) As you will be doing validation below, your first task is to mold what you did above into two functions: one for fitting and another one for predicting. You can mostly copy-paste your code from above."
   ]
  },
  {
   "cell_type": "code",
   "execution_count": 19,
   "id": "3915611a-71f8-4445-b5f9-46a4600ff286",
   "metadata": {
    "id": "3915611a-71f8-4445-b5f9-46a4600ff286"
   },
   "outputs": [],
   "source": [
    "# Create a function that add smoothing to the model\n",
    "def fitting(X_train, y_train, alpha):\n",
    "    total_spam = (y_train == 1).sum()\n",
    "    total_non_spam = (y_train == 0).sum()\n",
    "    \n",
    "    logPr_S1 = np.log((total_spam + alpha) / (total_spam + total_non_spam + 2 * alpha))\n",
    "    logPr_S0 = np.log((total_non_spam + alpha) / (total_spam + total_non_spam + 2 * alpha))\n",
    "    \n",
    "    logPr_W1_S1 = np.log((np.sum(X_train[y_train == 1], axis = 0) + alpha) / (total_spam + 2 * alpha))\n",
    "    logPr_W1_S0 = np.log((np.sum(X_train[y_train == 0], axis = 0) + alpha) / (total_non_spam + 2 * alpha))\n",
    "    \n",
    "    return logPr_S1, logPr_S0, logPr_W1_S1, logPr_W1_S0"
   ]
  },
  {
   "cell_type": "markdown",
   "id": "854e0eca-5bc6-4be6-b15e-fe90d5ffda03",
   "metadata": {
    "id": "854e0eca-5bc6-4be6-b15e-fe90d5ffda03"
   },
   "source": [
    "    2. (18pt) Add smoothing to the model. Smoothing amounts to assuming that we have “seen” every possible word α⩾0 times already, in both spam and non-spam emails. Note that αdoes not have to be an integer, and typically the best α<1.\n",
    "    What you have to do is to re-compute the probabilities log Pr(S), log Pr( ̄S), log Pr(w|S), log Pr(w| ̄S), the predictions part will remain unchanged. So you should update your fitting function by adding an additional argument αto it, and modify the probabilities accordingly. (And you use only training data for this.)\n",
    "    See Lecture Notes 7.3.2; Example 7.3 (page 274); and Schutt p 103 and p 109 for more explanations."
   ]
  },
  {
   "cell_type": "code",
   "execution_count": 20,
   "id": "43d14e94-06fd-433b-bafb-03aff1ffe392",
   "metadata": {
    "id": "43d14e94-06fd-433b-bafb-03aff1ffe392",
    "tags": []
   },
   "outputs": [],
   "source": [
    "# Make a function for predicting\n",
    "def predicting(X_val, y_val):\n",
    "    L_S1 = logPr_S1 + X_val @ logPr_W1_S1.T\n",
    "    L_S0 = logPr_S0 + X_val @ logPr_W1_S0.T\n",
    "    \n",
    "    prediction = (L_S1 > L_S0) * 1\n",
    "    return prediction"
   ]
  },
  {
   "cell_type": "markdown",
   "id": "ac93f900-4993-4870-b135-adf43ffe35ae",
   "metadata": {},
   "source": [
    "Fitting function is in 3.1."
   ]
  },
  {
   "cell_type": "markdown",
   "id": "c940eb52-c846-4e69-aaaa-e9fe7962a795",
   "metadata": {
    "id": "c940eb52-c846-4e69-aaaa-e9fe7962a795"
   },
   "source": [
    "    3. (5pt) Use your updated model for predictions with a few different α-values (on validation data) and report the corresponding confusion matrix and accuracy.\n",
    "    A well-implemented algorith should not spend more than a few seconds on both fitting and predicting. However, more important that you understand what you are doing!"
   ]
  },
  {
   "cell_type": "code",
   "execution_count": 21,
   "id": "62b22e72-f267-413d-8c47-39143ece4afe",
   "metadata": {
    "id": "62b22e72-f267-413d-8c47-39143ece4afe"
   },
   "outputs": [
    {
     "data": {
      "text/plain": [
       "(array([[422,  62],\n",
       "        [  0,  95]]),\n",
       " 0.8929188255613126)"
      ]
     },
     "execution_count": 21,
     "metadata": {},
     "output_type": "execute_result"
    }
   ],
   "source": [
    "# Use the updated model for predictions with alpha value of 1\n",
    "logPr_S1, logPr_S0, logPr_W1_S1, logPr_W1_S0 = fitting(X_train, y_train, 1) \n",
    "# Compute confusion matrix and accuracy\n",
    "cm = confusion_matrix(y_val, predicting(X_val, y_val))\n",
    "accuracy = accuracy_score(y_val, predicting(X_val, y_val))\n",
    "cm, accuracy"
   ]
  },
  {
   "cell_type": "code",
   "execution_count": 22,
   "id": "7ad9b44e-889e-4620-b4a0-3f5ac787749c",
   "metadata": {},
   "outputs": [
    {
     "data": {
      "text/plain": [
       "(array([[459,  25],\n",
       "        [  0,  95]]),\n",
       " 0.9568221070811744)"
      ]
     },
     "execution_count": 22,
     "metadata": {},
     "output_type": "execute_result"
    }
   ],
   "source": [
    "# Use the updated model for predictions with alpha value of 0.5\n",
    "logPr_S1, logPr_S0, logPr_W1_S1, logPr_W1_S0 = fitting(X_train, y_train, 0.5)\n",
    "# Compute confusion matrix and accuracy\n",
    "cm = confusion_matrix(y_val, predicting(X_val, y_val))\n",
    "accuracy = accuracy_score(y_val, predicting(X_val, y_val))\n",
    "cm, accuracy"
   ]
  },
  {
   "cell_type": "markdown",
   "id": "e06b0fb8-1c82-491a-83cb-8ad9cd41f44c",
   "metadata": {
    "id": "e06b0fb8-1c82-491a-83cb-8ad9cd41f44c"
   },
   "source": [
    "    4. (5pt) Use validation to find the best smoothing parameter α.\n",
    "    You can just run a loop over different values, but start with very small values (10−8, 10−7, 10−6 up to perhaps 10).\n",
    "    Note: this is fairly fast if your algorithm is fast. But even if your algorithm is slow, do the best you can!\n",
    "    If your results are like mine, your best accuracy will be >99.5%. (But this result is random!)"
   ]
  },
  {
   "cell_type": "code",
   "execution_count": 23,
   "id": "6367fad1-9afb-435c-a590-6f21a0dc62e3",
   "metadata": {
    "id": "6367fad1-9afb-435c-a590-6f21a0dc62e3"
   },
   "outputs": [],
   "source": [
    "best_score = 0\n",
    "best_alpha = 0\n",
    "scores = []\n",
    "alphas = []\n",
    "# Loop over different alpha values and find the best accuracy and best alpha value\n",
    "for n in range(-8, 2):\n",
    "    alpha = 10**n\n",
    "    logPr_S1, logPr_S0, logPr_W1_S1, logPr_W1_S0 = fitting(X_train, y_train, alpha)\n",
    "    score = accuracy_score(y_val, predicting(X_val, y_val))\n",
    "    if score > best_score:\n",
    "        best_score = score\n",
    "        best_alpha = alpha\n",
    "    scores.append(score)\n",
    "    alphas.append(alpha)"
   ]
  },
  {
   "cell_type": "code",
   "execution_count": 24,
   "id": "7fb3a54b-ff0d-4dc9-8abe-c1004f222657",
   "metadata": {},
   "outputs": [
    {
     "name": "stdout",
     "output_type": "stream",
     "text": [
      "The best accuracy is: 0.9948186528497409\n",
      "The best alpha value is: 0.001\n"
     ]
    }
   ],
   "source": [
    "print('The best accuracy is:', best_score)\n",
    "print('The best alpha value is:', best_alpha)"
   ]
  },
  {
   "cell_type": "markdown",
   "id": "8f1de5dc-4674-40a4-91dd-a6a0d2f85ae4",
   "metadata": {
    "id": "8f1de5dc-4674-40a4-91dd-a6a0d2f85ae4"
   },
   "source": [
    "    5. (2pt) Plot how accuracy depends on α. Use log-scale for α!"
   ]
  },
  {
   "cell_type": "code",
   "execution_count": 25,
   "id": "8c2f8461-a366-415a-99a8-e3bff4e732fe",
   "metadata": {
    "id": "8c2f8461-a366-415a-99a8-e3bff4e732fe"
   },
   "outputs": [
    {
     "data": {
      "image/png": "[encoded data removed]",
      "text/plain": [
       "<Figure size 432x288 with 1 Axes>"
      ]
     },
     "metadata": {
      "needs_background": "light"
     },
     "output_type": "display_data"
    }
   ],
   "source": [
    "# Plot the accuracy vs. alpha using the log sclae for alpha\n",
    "_ = plt.plot(alphas, scores)\n",
    "_ = plt.xscale('log')\n",
    "_ = plt.ylim(0.9, 1)\n",
    "_ = plt.xticks(alphas)\n",
    "_ = plt.title(\"Alphas vs Accuracy\")\n",
    "_ = plt.xlabel(\"Alphas\")\n",
    "_ = plt.ylabel(\"Accuracy\")"
   ]
  },
  {
   "cell_type": "markdown",
   "id": "751e1612-cfee-4de7-bdd1-e9e73e6b7588",
   "metadata": {
    "id": "751e1612-cfee-4de7-bdd1-e9e73e6b7588"
   },
   "source": [
    "# Interpretation"
   ]
  },
  {
   "cell_type": "markdown",
   "id": "8646baf9-e840-48b0-9e66-aacafb60fa2e",
   "metadata": {
    "id": "8646baf9-e840-48b0-9e66-aacafb60fa2e"
   },
   "source": [
    "Naive Bayes is interpretable in a little similar fashion like linear regression. But in only a little similar fashion. Namely, we can find the words that are the best predictors that an email is spam, and the best predictors that email is non-spam. And we want to look at reasonably common words only, say more frequent than 10 times in the data."
   ]
  },
  {
   "cell_type": "markdown",
   "id": "9bee1c3c-4e32-4e30-aae9-041acd130ba8",
   "metadata": {
    "id": "9bee1c3c-4e32-4e30-aae9-041acd130ba8"
   },
   "source": [
    "    1. (10pt) Which words are the best predictors that an email is spam? These are the word where Pr(S=1|W=1)is large and Pr(S=0|W=1)is small, or to put it differently, where log Pr(S=1|W=1)−log Pr(S=0|W=1)is large.\n",
    "    Explain why this is the case.\n",
    "    Hint: you may re-check the concept of log-likelihood and how that is used for prediction.\n",
    "    Hint 2: you may imagine you receive 60k 1-word emails (one for each word in your vocabulary). Which ones are most likely spam, and which ones are least likely spam?"
   ]
  },
  {
   "cell_type": "code",
   "execution_count": 26,
   "id": "2a2ab204-c1f2-47bb-974d-b81860ea16b1",
   "metadata": {
    "id": "2a2ab204-c1f2-47bb-974d-b81860ea16b1"
   },
   "outputs": [
    {
     "name": "stdout",
     "output_type": "stream",
     "text": [
      "The words that are the best predictors for whether an email is a spam or not: ['bonus' 'profits' 'investment' 'fantastic' 'mlm']\n"
     ]
    }
   ],
   "source": [
    "# Fit with the best performing model\n",
    "logPr_S1, logPr_S0, logPr_W1_S1, logPr_W1_S0 = fitting(X_train, y_train, best_alpha)\n",
    "# Compute log Pr(S = 1|W = 1) and log Pr(S = 0|W = 1)\n",
    "logPr_S1_W1 = logPr_W1_S1 + logPr_S1\n",
    "logPr_S0_W1 = logPr_W1_S0 + logPr_S0\n",
    "# Compute the difference between the two log probabilities\n",
    "difference = logPr_S1_W1 - logPr_S0_W1\n",
    "difference = np.array(difference)\n",
    "# Convert vocabulary to array\n",
    "vocab = np.array(vocabulary)\n",
    "# Find the predictors \n",
    "predictors = vocab[np.argsort(-difference)]\n",
    "best_predictors = predictors[0, :5]\n",
    "print('The words that are the best predictors for whether an email is a spam or not:', best_predictors)"
   ]
  },
  {
   "cell_type": "markdown",
   "id": "c326ccc6-d77f-491e-8221-2a86e2b2cecb",
   "metadata": {},
   "source": [
    "To find the best predictors of whether an email is a spam or not, we want difference between $log(Pr(S = 1|W = 1))$ and $log(Pr(S = 0|W = 1))$ as large as possible. This is because it means that given a word, the email is significantly more likely to become a spam than non-spam. To calculate it, it is necessary to know $log(Pr(S = 1|W = 1))$ and $log(Pr(S = 0|W = 1))$\n",
    "\n",
    "To calculate the two necessary log probabilities, $log(Pr(S = 1|W = 1))$ could be rewrite as $log(Pr(W = 1|S = 1))* Pr(S = 1) / Pr(W = 1)$. Same logic, $log(Pr(S = 0|W = 1))$ can be rewrite as $log(Pr(W = 1|S = 0))* Pr(S = 0) / Pr(W = 1)$. Because both have the same denominator, we can ignore the denominator when doing the difference comparison. What we are really interested to find is the numerators on the top which is the difference between $log(Pr(W = 1|S = 1))* Pr(S = 1)$ and $log(Pr(W = 1|S = 0))* Pr(S = 0)$\n",
    "\n",
    "Finally, to compute the numerators, $log(Pr(W = 1|S = 1))* Pr(S = 1)$ can be rewritten as $log(Pr(W = 1|S = 1)) + log(Pr(S = 1))$, and $log(Pr(W = 1|S = 0))* Pr(S = 0)$ can be rewritten as $log(Pr(W = 1|S = 0)) + log(Pr(S = 0))$"
   ]
  },
  {
   "cell_type": "markdown",
   "id": "2189dca4-f807-4a4e-8276-04554e6647ff",
   "metadata": {
    "id": "2189dca4-f807-4a4e-8276-04554e6647ff"
   },
   "source": [
    "    2. (10pt) Find 10 best words to predict spam and 10 best words to predict non-spam. Comment your results."
   ]
  },
  {
   "cell_type": "code",
   "execution_count": 27,
   "id": "acc1d15d-8c86-4c2e-ba7e-2fa00ff244c1",
   "metadata": {
    "id": "acc1d15d-8c86-4c2e-ba7e-2fa00ff244c1"
   },
   "outputs": [],
   "source": [
    "# Find the indices of the 10 best words to predict spam and 10 best words to predict non-spam\n",
    "best_spams_predictors = np.argsort(-difference)[0, :10]\n",
    "best_non_spams_predictors = np.argsort(difference)[0, :10]"
   ]
  },
  {
   "cell_type": "code",
   "execution_count": 28,
   "id": "b65f4c99-5a36-4942-aaed-c2f847b6eeb5",
   "metadata": {},
   "outputs": [
    {
     "name": "stdout",
     "output_type": "stream",
     "text": [
      "The 10 best words to predict spams are: ['bonus' 'profits' 'investment' 'fantastic' 'mlm' 'earning' 'stealth'\n",
      " 'relax' 'hottest' 'resell']\n"
     ]
    }
   ],
   "source": [
    "best_spam_words = vocab[best_spams_predictors]\n",
    "print('The 10 best words to predict spams are:', best_spam_words)"
   ]
  },
  {
   "cell_type": "code",
   "execution_count": 29,
   "id": "ce679d53-205f-40ac-b7b4-3e6f9c8527e1",
   "metadata": {},
   "outputs": [
    {
     "name": "stdout",
     "output_type": "stream",
     "text": [
      "The 10 best words to predict non-spams are: ['linguistics' 'linguistic' 'theory' 'syntax' 'deadline' 'abstract'\n",
      " 'structure' 'grammar' 'committee' 'workshop']\n"
     ]
    }
   ],
   "source": [
    "best_non_spam_words = vocab[best_non_spams_predictors]\n",
    "print('The 10 best words to predict non-spams are:', best_non_spam_words)"
   ]
  },
  {
   "cell_type": "markdown",
   "id": "ae46eb17-c1cc-4ebd-a6f3-ca881c1dab73",
   "metadata": {
    "id": "ae46eb17-c1cc-4ebd-a6f3-ca881c1dab73"
   },
   "source": [
    "# How many hours did you spend on this PS?"
   ]
  },
  {
   "cell_type": "markdown",
   "id": "f1f1cdef-e0c0-4e17-9822-b6ca67e1835d",
   "metadata": {
    "id": "07668cc4-3934-4813-84f4-551a2c235920"
   },
   "source": [
    "I spent about 12 hours on this problem set."
   ]
  }
 ],
 "metadata": {
  "colab": {
   "collapsed_sections": [
    "281d25b5-4193-4976-b5ae-80f5cecc07eb",
    "751e1612-cfee-4de7-bdd1-e9e73e6b7588",
    "ae46eb17-c1cc-4ebd-a6f3-ca881c1dab73",
    "fad9efe6-6ffc-482f-80c2-6d55da1cf756"
   ],
   "name": "Naive Bayes.ipynb",
   "provenance": []
  },
  "kernelspec": {
   "display_name": "Python 3 (ipykernel)",
   "language": "python",
   "name": "python3"
  },
  "language_info": {
   "codemirror_mode": {
    "name": "ipython",
    "version": 3
   },
   "file_extension": ".py",
   "mimetype": "text/x-python",
   "name": "python",
   "nbconvert_exporter": "python",
   "pygments_lexer": "ipython3",
   "version": "3.9.7"
  }
 },
 "nbformat": 4,
 "nbformat_minor": 5
}
